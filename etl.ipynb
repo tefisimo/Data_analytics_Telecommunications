{
 "cells": [
  {
   "cell_type": "markdown",
   "metadata": {},
   "source": [
    "# ETL: Fase de preparacion, procesamiento y limpieza de los datos"
   ]
  },
  {
   "cell_type": "markdown",
   "metadata": {},
   "source": [
    "### En esta fase estaremos explorando el archivo en bruto para ver que tipo de informacion tenemos en cada hoja y columna. Identificar variables claves que nos ayuden a responder preguntas definidas\n",
    "\n",
    "### Determinar la estructura de los datos, observar si hay datos faltantes o valores anomalos, y corregirlos de ser necesarios.\n",
    "---"
   ]
  },
  {
   "cell_type": "code",
   "execution_count": 1,
   "metadata": {},
   "outputs": [],
   "source": [
    "# Iniciamos importando las librerias necesarias.\n",
    "import numpy as np\n",
    "import pandas as pd\n",
    "import warnings\n",
    "warnings.filterwarnings(\"ignore\")"
   ]
  },
  {
   "cell_type": "code",
   "execution_count": 2,
   "metadata": {},
   "outputs": [],
   "source": [
    "# Guardamos en una variable la ruta de nuestro dataset.\n",
    "file_path = './Datasets/Internet.xlsx'"
   ]
  },
  {
   "cell_type": "code",
   "execution_count": 3,
   "metadata": {},
   "outputs": [
    {
     "data": {
      "text/plain": [
       "['Acc_vel_loc_sinrangos',\n",
       " 'Velocidad_sin_Rangos',\n",
       " 'Accesos_tecnologia_localidad',\n",
       " 'Velocidad % por prov',\n",
       " 'Totales VMD',\n",
       " 'Totales Accesos Por Tecnología',\n",
       " 'Accesos Por Tecnología',\n",
       " 'Penetración-poblacion',\n",
       " 'Penetracion-hogares',\n",
       " 'Penetracion-totales',\n",
       " 'Totales Accesos por rango',\n",
       " 'Accesos por rangos',\n",
       " 'Dial-BAf',\n",
       " 'Totales Dial-BAf',\n",
       " 'Ingresos ']"
      ]
     },
     "execution_count": 3,
     "metadata": {},
     "output_type": "execute_result"
    }
   ],
   "source": [
    "# Cargamos el archivo e imprimimos los nombres de las hojas para entender su estructura.\n",
    "archivo_excel = pd.ExcelFile(file_path)\n",
    "hojas = archivo_excel.sheet_names\n",
    "hojas"
   ]
  },
  {
   "cell_type": "code",
   "execution_count": 4,
   "metadata": {},
   "outputs": [
    {
     "name": "stdout",
     "output_type": "stream",
     "text": [
      "Acc_vel_loc_sinrangos\n",
      "Velocidad_sin_Rangos\n",
      "Accesos_tecnologia_localidad\n",
      "Velocidad % por prov\n",
      "Totales VMD\n",
      "Totales Accesos Por Tecnología\n",
      "Accesos Por Tecnología\n",
      "Penetración-poblacion\n",
      "Penetracion-hogares\n",
      "Penetracion-totales\n",
      "Totales Accesos por rango\n",
      "Accesos por rangos\n",
      "Dial-BAf\n",
      "Totales Dial-BAf\n",
      "Ingresos \n"
     ]
    }
   ],
   "source": [
    "# Crear un diccionario para almacenar cada hoja como un DataFrame individual\n",
    "dataframes = {hoja: archivo_excel.parse(hoja) for hoja in hojas}\n",
    "# Imprimir cada dataframe\n",
    "for dataframe in dataframes.keys():\n",
    "    print(dataframe)\n"
   ]
  },
  {
   "cell_type": "markdown",
   "metadata": {},
   "source": [
    "#### Procederemos a observar si hay valores faltantes y su debido tratado para cada dataframe"
   ]
  },
  {
   "cell_type": "code",
   "execution_count": 5,
   "metadata": {},
   "outputs": [
    {
     "data": {
      "text/html": [
       "<div>\n",
       "<style scoped>\n",
       "    .dataframe tbody tr th:only-of-type {\n",
       "        vertical-align: middle;\n",
       "    }\n",
       "\n",
       "    .dataframe tbody tr th {\n",
       "        vertical-align: top;\n",
       "    }\n",
       "\n",
       "    .dataframe thead th {\n",
       "        text-align: right;\n",
       "    }\n",
       "</style>\n",
       "<table border=\"1\" class=\"dataframe\">\n",
       "  <thead>\n",
       "    <tr style=\"text-align: right;\">\n",
       "      <th></th>\n",
       "      <th>Partido</th>\n",
       "      <th>Localidad</th>\n",
       "      <th>link Indec</th>\n",
       "      <th>Velocidad (Mbps)</th>\n",
       "      <th>Provincia</th>\n",
       "      <th>Accesos</th>\n",
       "    </tr>\n",
       "  </thead>\n",
       "  <tbody>\n",
       "    <tr>\n",
       "      <th>0</th>\n",
       "      <td>BUENOS AIRES</td>\n",
       "      <td>25 de Mayo</td>\n",
       "      <td>25 de Mayo</td>\n",
       "      <td>6854100</td>\n",
       "      <td>0.00</td>\n",
       "      <td>1.0</td>\n",
       "    </tr>\n",
       "    <tr>\n",
       "      <th>1</th>\n",
       "      <td>BUENOS AIRES</td>\n",
       "      <td>25 de Mayo</td>\n",
       "      <td>25 de Mayo</td>\n",
       "      <td>6854100</td>\n",
       "      <td>0.50</td>\n",
       "      <td>2.0</td>\n",
       "    </tr>\n",
       "    <tr>\n",
       "      <th>2</th>\n",
       "      <td>BUENOS AIRES</td>\n",
       "      <td>25 de Mayo</td>\n",
       "      <td>25 de Mayo</td>\n",
       "      <td>6854100</td>\n",
       "      <td>0.75</td>\n",
       "      <td>19.0</td>\n",
       "    </tr>\n",
       "    <tr>\n",
       "      <th>3</th>\n",
       "      <td>BUENOS AIRES</td>\n",
       "      <td>25 de Mayo</td>\n",
       "      <td>25 de Mayo</td>\n",
       "      <td>6854100</td>\n",
       "      <td>3.00</td>\n",
       "      <td>85.0</td>\n",
       "    </tr>\n",
       "    <tr>\n",
       "      <th>4</th>\n",
       "      <td>BUENOS AIRES</td>\n",
       "      <td>25 de Mayo</td>\n",
       "      <td>25 de Mayo</td>\n",
       "      <td>6854100</td>\n",
       "      <td>3.50</td>\n",
       "      <td>145.0</td>\n",
       "    </tr>\n",
       "  </tbody>\n",
       "</table>\n",
       "</div>"
      ],
      "text/plain": [
       "        Partido   Localidad  link Indec Velocidad (Mbps)  Provincia  Accesos\n",
       "0  BUENOS AIRES  25 de Mayo  25 de Mayo          6854100       0.00      1.0\n",
       "1  BUENOS AIRES  25 de Mayo  25 de Mayo          6854100       0.50      2.0\n",
       "2  BUENOS AIRES  25 de Mayo  25 de Mayo          6854100       0.75     19.0\n",
       "3  BUENOS AIRES  25 de Mayo  25 de Mayo          6854100       3.00     85.0\n",
       "4  BUENOS AIRES  25 de Mayo  25 de Mayo          6854100       3.50    145.0"
      ]
     },
     "execution_count": 5,
     "metadata": {},
     "output_type": "execute_result"
    }
   ],
   "source": [
    "# Imprimimos los valores iniciales de nuestro 1er dataframe\n",
    "dataframes['Acc_vel_loc_sinrangos'].head()"
   ]
  },
  {
   "cell_type": "code",
   "execution_count": 6,
   "metadata": {},
   "outputs": [
    {
     "data": {
      "text/html": [
       "<div>\n",
       "<style scoped>\n",
       "    .dataframe tbody tr th:only-of-type {\n",
       "        vertical-align: middle;\n",
       "    }\n",
       "\n",
       "    .dataframe tbody tr th {\n",
       "        vertical-align: top;\n",
       "    }\n",
       "\n",
       "    .dataframe thead th {\n",
       "        text-align: right;\n",
       "    }\n",
       "</style>\n",
       "<table border=\"1\" class=\"dataframe\">\n",
       "  <thead>\n",
       "    <tr style=\"text-align: right;\">\n",
       "      <th></th>\n",
       "      <th>Provincia</th>\n",
       "      <th>Partido</th>\n",
       "      <th>Localidad</th>\n",
       "      <th>Link Indec</th>\n",
       "      <th>Velocidad (Mbps)</th>\n",
       "      <th>Accesos</th>\n",
       "    </tr>\n",
       "  </thead>\n",
       "  <tbody>\n",
       "    <tr>\n",
       "      <th>0</th>\n",
       "      <td>BUENOS AIRES</td>\n",
       "      <td>25 de Mayo</td>\n",
       "      <td>25 de Mayo</td>\n",
       "      <td>6854100</td>\n",
       "      <td>0.00</td>\n",
       "      <td>1.0</td>\n",
       "    </tr>\n",
       "    <tr>\n",
       "      <th>1</th>\n",
       "      <td>BUENOS AIRES</td>\n",
       "      <td>25 de Mayo</td>\n",
       "      <td>25 de Mayo</td>\n",
       "      <td>6854100</td>\n",
       "      <td>0.50</td>\n",
       "      <td>2.0</td>\n",
       "    </tr>\n",
       "    <tr>\n",
       "      <th>2</th>\n",
       "      <td>BUENOS AIRES</td>\n",
       "      <td>25 de Mayo</td>\n",
       "      <td>25 de Mayo</td>\n",
       "      <td>6854100</td>\n",
       "      <td>0.75</td>\n",
       "      <td>19.0</td>\n",
       "    </tr>\n",
       "    <tr>\n",
       "      <th>3</th>\n",
       "      <td>BUENOS AIRES</td>\n",
       "      <td>25 de Mayo</td>\n",
       "      <td>25 de Mayo</td>\n",
       "      <td>6854100</td>\n",
       "      <td>3.00</td>\n",
       "      <td>85.0</td>\n",
       "    </tr>\n",
       "    <tr>\n",
       "      <th>4</th>\n",
       "      <td>BUENOS AIRES</td>\n",
       "      <td>25 de Mayo</td>\n",
       "      <td>25 de Mayo</td>\n",
       "      <td>6854100</td>\n",
       "      <td>3.50</td>\n",
       "      <td>145.0</td>\n",
       "    </tr>\n",
       "  </tbody>\n",
       "</table>\n",
       "</div>"
      ],
      "text/plain": [
       "      Provincia     Partido   Localidad Link Indec  Velocidad (Mbps)  Accesos\n",
       "0  BUENOS AIRES  25 de Mayo  25 de Mayo    6854100              0.00      1.0\n",
       "1  BUENOS AIRES  25 de Mayo  25 de Mayo    6854100              0.50      2.0\n",
       "2  BUENOS AIRES  25 de Mayo  25 de Mayo    6854100              0.75     19.0\n",
       "3  BUENOS AIRES  25 de Mayo  25 de Mayo    6854100              3.00     85.0\n",
       "4  BUENOS AIRES  25 de Mayo  25 de Mayo    6854100              3.50    145.0"
      ]
     },
     "execution_count": 6,
     "metadata": {},
     "output_type": "execute_result"
    }
   ],
   "source": [
    "# Se procede a renombrar las columnas correctamente\n",
    "dataframes['Acc_vel_loc_sinrangos'].rename(columns= {'Partido': 'Provincia', 'Localidad': 'Partido', 'link Indec': 'Localidad', 'Velocidad (Mbps)': 'Link Indec', 'Provincia': 'Velocidad (Mbps)'}, inplace=True)\n",
    "dataframes['Acc_vel_loc_sinrangos'].head()"
   ]
  },
  {
   "cell_type": "code",
   "execution_count": 7,
   "metadata": {},
   "outputs": [
    {
     "name": "stdout",
     "output_type": "stream",
     "text": [
      "1er dataframe:  Acc_vel_loc_sinrangos\n",
      "--------------------------------------------------\n",
      "Cantidad de nulos por columna: \n",
      " Provincia           0\n",
      "Partido             0\n",
      "Localidad           1\n",
      "Link Indec          0\n",
      "Velocidad (Mbps)    0\n",
      "Accesos             7\n",
      "dtype: int64\n",
      "--------------------------------------------------\n",
      "Cantidad de filas duplicadas:  0\n",
      "--------------------------------------------------\n",
      "Tipos de datos: \n",
      " Provincia            object\n",
      "Partido              object\n",
      "Localidad            object\n",
      "Link Indec           object\n",
      "Velocidad (Mbps)    float64\n",
      "Accesos             float64\n",
      "dtype: object\n"
     ]
    }
   ],
   "source": [
    "primer_dataframe = list(dataframes.keys())[0]\n",
    "print('1er dataframe: ', primer_dataframe)\n",
    "print('-' * 50)\n",
    "print('Cantidad de nulos por columna: \\n', dataframes['Acc_vel_loc_sinrangos'].isnull().sum())\n",
    "print('-' * 50)\n",
    "print('Cantidad de filas duplicadas: ', dataframes['Acc_vel_loc_sinrangos'].duplicated().sum())\n",
    "print('-' * 50)\n",
    "print('Tipos de datos: \\n', dataframes['Acc_vel_loc_sinrangos'].dtypes)"
   ]
  },
  {
   "cell_type": "code",
   "execution_count": 8,
   "metadata": {},
   "outputs": [
    {
     "data": {
      "text/html": [
       "<div>\n",
       "<style scoped>\n",
       "    .dataframe tbody tr th:only-of-type {\n",
       "        vertical-align: middle;\n",
       "    }\n",
       "\n",
       "    .dataframe tbody tr th {\n",
       "        vertical-align: top;\n",
       "    }\n",
       "\n",
       "    .dataframe thead th {\n",
       "        text-align: right;\n",
       "    }\n",
       "</style>\n",
       "<table border=\"1\" class=\"dataframe\">\n",
       "  <thead>\n",
       "    <tr style=\"text-align: right;\">\n",
       "      <th></th>\n",
       "      <th>Provincia</th>\n",
       "      <th>Partido</th>\n",
       "      <th>Localidad</th>\n",
       "      <th>Link Indec</th>\n",
       "      <th>Velocidad (Mbps)</th>\n",
       "      <th>Accesos</th>\n",
       "    </tr>\n",
       "  </thead>\n",
       "  <tbody>\n",
       "    <tr>\n",
       "      <th>7172</th>\n",
       "      <td>CABA</td>\n",
       "      <td>Ciudad Autónoma de Buenos Aires</td>\n",
       "      <td>NaN</td>\n",
       "      <td>Sin Datos</td>\n",
       "      <td>300.0</td>\n",
       "      <td>-5582.0</td>\n",
       "    </tr>\n",
       "    <tr>\n",
       "      <th>10510</th>\n",
       "      <td>CORRIENTES</td>\n",
       "      <td>Ituzaingó</td>\n",
       "      <td>Colonia Liebig's</td>\n",
       "      <td>18084010</td>\n",
       "      <td>0.0</td>\n",
       "      <td>NaN</td>\n",
       "    </tr>\n",
       "    <tr>\n",
       "      <th>11288</th>\n",
       "      <td>ENTRE RIOS</td>\n",
       "      <td>Tala</td>\n",
       "      <td>Rosario del Tala</td>\n",
       "      <td>30091100</td>\n",
       "      <td>0.0</td>\n",
       "      <td>NaN</td>\n",
       "    </tr>\n",
       "    <tr>\n",
       "      <th>14784</th>\n",
       "      <td>SALTA</td>\n",
       "      <td>Cafayate</td>\n",
       "      <td>Tolombón</td>\n",
       "      <td>66021020</td>\n",
       "      <td>0.0</td>\n",
       "      <td>NaN</td>\n",
       "    </tr>\n",
       "    <tr>\n",
       "      <th>15288</th>\n",
       "      <td>SALTA</td>\n",
       "      <td>San Carlos</td>\n",
       "      <td>Animaná</td>\n",
       "      <td>66154020</td>\n",
       "      <td>0.0</td>\n",
       "      <td>NaN</td>\n",
       "    </tr>\n",
       "    <tr>\n",
       "      <th>15294</th>\n",
       "      <td>SALTA</td>\n",
       "      <td>San Carlos</td>\n",
       "      <td>San Carlos</td>\n",
       "      <td>66154040</td>\n",
       "      <td>0.0</td>\n",
       "      <td>NaN</td>\n",
       "    </tr>\n",
       "    <tr>\n",
       "      <th>17235</th>\n",
       "      <td>SANTA FE</td>\n",
       "      <td>Rosario</td>\n",
       "      <td>General Lagos</td>\n",
       "      <td>82084150</td>\n",
       "      <td>0.0</td>\n",
       "      <td>NaN</td>\n",
       "    </tr>\n",
       "    <tr>\n",
       "      <th>18090</th>\n",
       "      <td>SANTIAGO DEL ESTERO</td>\n",
       "      <td>Choya</td>\n",
       "      <td>Frías</td>\n",
       "      <td>86063040</td>\n",
       "      <td>0.0</td>\n",
       "      <td>NaN</td>\n",
       "    </tr>\n",
       "  </tbody>\n",
       "</table>\n",
       "</div>"
      ],
      "text/plain": [
       "                 Provincia                          Partido         Localidad  \\\n",
       "7172                  CABA  Ciudad Autónoma de Buenos Aires               NaN   \n",
       "10510           CORRIENTES                        Ituzaingó  Colonia Liebig's   \n",
       "11288           ENTRE RIOS                             Tala  Rosario del Tala   \n",
       "14784                SALTA                         Cafayate          Tolombón   \n",
       "15288                SALTA                       San Carlos           Animaná   \n",
       "15294                SALTA                       San Carlos        San Carlos   \n",
       "17235             SANTA FE                          Rosario     General Lagos   \n",
       "18090  SANTIAGO DEL ESTERO                            Choya             Frías   \n",
       "\n",
       "      Link Indec  Velocidad (Mbps)  Accesos  \n",
       "7172   Sin Datos             300.0  -5582.0  \n",
       "10510   18084010               0.0      NaN  \n",
       "11288   30091100               0.0      NaN  \n",
       "14784   66021020               0.0      NaN  \n",
       "15288   66154020               0.0      NaN  \n",
       "15294   66154040               0.0      NaN  \n",
       "17235   82084150               0.0      NaN  \n",
       "18090   86063040               0.0      NaN  "
      ]
     },
     "execution_count": 8,
     "metadata": {},
     "output_type": "execute_result"
    }
   ],
   "source": [
    "# Se procedio a identificar cuales eran las filas con valores nulos\n",
    "fila, columna = np.where(dataframes['Acc_vel_loc_sinrangos'].isna())\n",
    "dataframes['Acc_vel_loc_sinrangos'].iloc[fila]"
   ]
  },
  {
   "cell_type": "markdown",
   "metadata": {},
   "source": [
    "Agregar la localidad y el link. Arreglar el acceso"
   ]
  },
  {
   "cell_type": "code",
   "execution_count": 9,
   "metadata": {},
   "outputs": [
    {
     "data": {
      "text/plain": [
       "array(['BUENOS AIRES', 'CABA', 'CATAMARCA', 'CHACO', 'CHUBUT', 'CORDOBA',\n",
       "       'CORRIENTES', 'ENTRE RIOS', 'FORMOSA', 'JUJUY', 'LA PAMPA',\n",
       "       'LA RIOJA', 'MENDOZA', 'MISIONES', 'NEUQUEN', 'RIO NEGRO', 'SALTA',\n",
       "       'SAN JUAN', 'SAN LUIS', 'SANTA CRUZ', 'SANTA FE',\n",
       "       'SANTIAGO DEL ESTERO', 'TIERRA DEL FUEGO', 'TUCUMAN'], dtype=object)"
      ]
     },
     "execution_count": 9,
     "metadata": {},
     "output_type": "execute_result"
    }
   ],
   "source": [
    "dataframes['Acc_vel_loc_sinrangos']['Provincia'].unique()"
   ]
  },
  {
   "cell_type": "code",
   "execution_count": 10,
   "metadata": {},
   "outputs": [
    {
     "data": {
      "text/plain": [
       "array(['Buenos Aires', 'Caba', 'Catamarca', 'Chaco', 'Chubut', 'Cordoba',\n",
       "       'Corrientes', 'Entre Rios', 'Formosa', 'Jujuy', 'La Pampa',\n",
       "       'La Rioja', 'Mendoza', 'Misiones', 'Neuquen', 'Rio Negro', 'Salta',\n",
       "       'San Juan', 'San Luis', 'Santa Cruz', 'Santa Fe',\n",
       "       'Santiago Del Estero', 'Tierra Del Fuego', 'Tucuman'], dtype=object)"
      ]
     },
     "execution_count": 10,
     "metadata": {},
     "output_type": "execute_result"
    }
   ],
   "source": [
    "dataframes['Acc_vel_loc_sinrangos']['Provincia'] = dataframes['Acc_vel_loc_sinrangos']['Provincia'].str.title()\n",
    "dataframes['Acc_vel_loc_sinrangos']['Provincia'].unique()"
   ]
  },
  {
   "cell_type": "markdown",
   "metadata": {},
   "source": [
    "### ETL para KPI 1 (Penetracion-hogares, Accesos_tecnologia_localicad, Accesos por tecnologia)"
   ]
  },
  {
   "cell_type": "code",
   "execution_count": 11,
   "metadata": {},
   "outputs": [
    {
     "data": {
      "text/html": [
       "<div>\n",
       "<style scoped>\n",
       "    .dataframe tbody tr th:only-of-type {\n",
       "        vertical-align: middle;\n",
       "    }\n",
       "\n",
       "    .dataframe tbody tr th {\n",
       "        vertical-align: top;\n",
       "    }\n",
       "\n",
       "    .dataframe thead th {\n",
       "        text-align: right;\n",
       "    }\n",
       "</style>\n",
       "<table border=\"1\" class=\"dataframe\">\n",
       "  <thead>\n",
       "    <tr style=\"text-align: right;\">\n",
       "      <th></th>\n",
       "      <th>Año</th>\n",
       "      <th>Trimestre</th>\n",
       "      <th>Provincia</th>\n",
       "      <th>Accesos por cada 100 hogares</th>\n",
       "    </tr>\n",
       "  </thead>\n",
       "  <tbody>\n",
       "    <tr>\n",
       "      <th>0</th>\n",
       "      <td>2024</td>\n",
       "      <td>2</td>\n",
       "      <td>Buenos Aires</td>\n",
       "      <td>79.84</td>\n",
       "    </tr>\n",
       "    <tr>\n",
       "      <th>1</th>\n",
       "      <td>2024</td>\n",
       "      <td>2</td>\n",
       "      <td>Capital Federal</td>\n",
       "      <td>116.37</td>\n",
       "    </tr>\n",
       "    <tr>\n",
       "      <th>2</th>\n",
       "      <td>2024</td>\n",
       "      <td>2</td>\n",
       "      <td>Catamarca</td>\n",
       "      <td>68.81</td>\n",
       "    </tr>\n",
       "    <tr>\n",
       "      <th>3</th>\n",
       "      <td>2024</td>\n",
       "      <td>2</td>\n",
       "      <td>Chaco</td>\n",
       "      <td>44.06</td>\n",
       "    </tr>\n",
       "    <tr>\n",
       "      <th>4</th>\n",
       "      <td>2024</td>\n",
       "      <td>2</td>\n",
       "      <td>Chubut</td>\n",
       "      <td>86.33</td>\n",
       "    </tr>\n",
       "  </tbody>\n",
       "</table>\n",
       "</div>"
      ],
      "text/plain": [
       "    Año  Trimestre        Provincia  Accesos por cada 100 hogares\n",
       "0  2024          2     Buenos Aires                         79.84\n",
       "1  2024          2  Capital Federal                        116.37\n",
       "2  2024          2        Catamarca                         68.81\n",
       "3  2024          2            Chaco                         44.06\n",
       "4  2024          2           Chubut                         86.33"
      ]
     },
     "execution_count": 11,
     "metadata": {},
     "output_type": "execute_result"
    }
   ],
   "source": [
    "dataframes['Penetracion-hogares'].head()"
   ]
  },
  {
   "cell_type": "code",
   "execution_count": 12,
   "metadata": {},
   "outputs": [
    {
     "name": "stdout",
     "output_type": "stream",
     "text": [
      "9no dataframe:  Penetracion-hogares\n",
      "--------------------------------------------------\n",
      "Cantidad de nulos por columna: \n",
      " Año                             0\n",
      "Trimestre                       0\n",
      "Provincia                       0\n",
      "Accesos por cada 100 hogares    0\n",
      "dtype: int64\n",
      "--------------------------------------------------\n",
      "Cantidad de filas duplicadas:  0\n",
      "--------------------------------------------------\n",
      "Tipos de datos: \n",
      " Año                               int64\n",
      "Trimestre                         int64\n",
      "Provincia                        object\n",
      "Accesos por cada 100 hogares    float64\n",
      "dtype: object\n"
     ]
    }
   ],
   "source": [
    "# Se procede a revisar los valores nulos por columna, filas duplicadas y tipo de dato\n",
    "noveno_dataframe = list(dataframes.keys())[8]\n",
    "print('9no dataframe: ', noveno_dataframe)\n",
    "print('-' * 50)\n",
    "print('Cantidad de nulos por columna: \\n', dataframes['Penetracion-hogares'].isnull().sum())\n",
    "print('-' * 50)\n",
    "print('Cantidad de filas duplicadas: ', dataframes['Penetracion-hogares'].duplicated().sum())\n",
    "print('-' * 50)\n",
    "print('Tipos de datos: \\n', dataframes['Penetracion-hogares'].dtypes)"
   ]
  },
  {
   "cell_type": "code",
   "execution_count": 13,
   "metadata": {},
   "outputs": [
    {
     "data": {
      "text/plain": [
       "array(['Buenos Aires', 'Capital Federal', 'Catamarca', 'Chaco', 'Chubut',\n",
       "       'Córdoba', 'Corrientes', 'Entre Ríos', 'Formosa', 'Jujuy',\n",
       "       'La Pampa', 'La Rioja', 'Mendoza', 'Misiones', 'Neuquén',\n",
       "       'Río Negro', 'Salta', 'San Juan', 'San Luis', 'Santa Cruz',\n",
       "       'Santa Fe', 'Santiago Del Estero', 'Tierra Del Fuego', 'Tucumán'],\n",
       "      dtype=object)"
      ]
     },
     "execution_count": 13,
     "metadata": {},
     "output_type": "execute_result"
    }
   ],
   "source": [
    "dataframes['Penetracion-hogares']['Provincia'].unique()"
   ]
  },
  {
   "cell_type": "code",
   "execution_count": 14,
   "metadata": {},
   "outputs": [
    {
     "data": {
      "text/plain": [
       "array(['Buenos Aires', 'Capital Federal', 'Catamarca', 'Chaco', 'Chubut',\n",
       "       'Cordoba', 'Corrientes', 'Entre Rios', 'Formosa', 'Jujuy',\n",
       "       'La Pampa', 'La Rioja', 'Mendoza', 'Misiones', 'Neuquen',\n",
       "       'Rio Negro', 'Salta', 'San Juan', 'San Luis', 'Santa Cruz',\n",
       "       'Santa Fe', 'Santiago Del Estero', 'Tierra Del Fuego', 'Tucuman'],\n",
       "      dtype=object)"
      ]
     },
     "execution_count": 14,
     "metadata": {},
     "output_type": "execute_result"
    }
   ],
   "source": [
    "# Se procede a reemplazar valores cuya diferencia es un acento\n",
    "dataframes['Penetracion-hogares']['Provincia'] = dataframes['Penetracion-hogares']['Provincia'].replace('Córdoba', 'Cordoba')\n",
    "dataframes['Penetracion-hogares']['Provincia'] = dataframes['Penetracion-hogares']['Provincia'].replace('Entre Ríos', 'Entre Rios')\n",
    "dataframes['Penetracion-hogares']['Provincia'] = dataframes['Penetracion-hogares']['Provincia'].replace('Neuquén', 'Neuquen')\n",
    "dataframes['Penetracion-hogares']['Provincia'] = dataframes['Penetracion-hogares']['Provincia'].replace('Río Negro', 'Rio Negro')\n",
    "dataframes['Penetracion-hogares']['Provincia'] = dataframes['Penetracion-hogares']['Provincia'].replace('Tucumán', 'Tucuman')\n",
    "dataframes['Penetracion-hogares']['Provincia'].unique()"
   ]
  },
  {
   "cell_type": "code",
   "execution_count": null,
   "metadata": {},
   "outputs": [],
   "source": [
    "# Procedemos a ordenar las filas en orden ascendente por las columnas [Año y Trimestre]\n",
    "dataframes['Penetracion-hogares'] = dataframes['Penetracion-hogares'].sort_values(by=['Año', 'Trimestre']).reset_index(drop=True)"
   ]
  },
  {
   "cell_type": "code",
   "execution_count": 16,
   "metadata": {},
   "outputs": [
    {
     "data": {
      "text/html": [
       "<div>\n",
       "<style scoped>\n",
       "    .dataframe tbody tr th:only-of-type {\n",
       "        vertical-align: middle;\n",
       "    }\n",
       "\n",
       "    .dataframe tbody tr th {\n",
       "        vertical-align: top;\n",
       "    }\n",
       "\n",
       "    .dataframe thead th {\n",
       "        text-align: right;\n",
       "    }\n",
       "</style>\n",
       "<table border=\"1\" class=\"dataframe\">\n",
       "  <thead>\n",
       "    <tr style=\"text-align: right;\">\n",
       "      <th></th>\n",
       "      <th>Año</th>\n",
       "      <th>Trimestre</th>\n",
       "      <th>Provincia</th>\n",
       "      <th>Accesos por cada 100 hogares</th>\n",
       "    </tr>\n",
       "  </thead>\n",
       "  <tbody>\n",
       "    <tr>\n",
       "      <th>0</th>\n",
       "      <td>2014</td>\n",
       "      <td>1</td>\n",
       "      <td>Buenos Aires</td>\n",
       "      <td>54.570073</td>\n",
       "    </tr>\n",
       "    <tr>\n",
       "      <th>1</th>\n",
       "      <td>2014</td>\n",
       "      <td>1</td>\n",
       "      <td>Capital Federal</td>\n",
       "      <td>112.254123</td>\n",
       "    </tr>\n",
       "    <tr>\n",
       "      <th>2</th>\n",
       "      <td>2014</td>\n",
       "      <td>1</td>\n",
       "      <td>Catamarca</td>\n",
       "      <td>24.251751</td>\n",
       "    </tr>\n",
       "    <tr>\n",
       "      <th>3</th>\n",
       "      <td>2014</td>\n",
       "      <td>1</td>\n",
       "      <td>Chaco</td>\n",
       "      <td>20.718539</td>\n",
       "    </tr>\n",
       "    <tr>\n",
       "      <th>4</th>\n",
       "      <td>2014</td>\n",
       "      <td>1</td>\n",
       "      <td>Chubut</td>\n",
       "      <td>41.235218</td>\n",
       "    </tr>\n",
       "  </tbody>\n",
       "</table>\n",
       "</div>"
      ],
      "text/plain": [
       "    Año  Trimestre        Provincia  Accesos por cada 100 hogares\n",
       "0  2014          1     Buenos Aires                     54.570073\n",
       "1  2014          1  Capital Federal                    112.254123\n",
       "2  2014          1        Catamarca                     24.251751\n",
       "3  2014          1            Chaco                     20.718539\n",
       "4  2014          1           Chubut                     41.235218"
      ]
     },
     "execution_count": 16,
     "metadata": {},
     "output_type": "execute_result"
    }
   ],
   "source": [
    "dataframes['Penetracion-hogares'].head()"
   ]
  },
  {
   "cell_type": "code",
   "execution_count": 5,
   "metadata": {},
   "outputs": [
    {
     "data": {
      "text/html": [
       "<div>\n",
       "<style scoped>\n",
       "    .dataframe tbody tr th:only-of-type {\n",
       "        vertical-align: middle;\n",
       "    }\n",
       "\n",
       "    .dataframe tbody tr th {\n",
       "        vertical-align: top;\n",
       "    }\n",
       "\n",
       "    .dataframe thead th {\n",
       "        text-align: right;\n",
       "    }\n",
       "</style>\n",
       "<table border=\"1\" class=\"dataframe\">\n",
       "  <thead>\n",
       "    <tr style=\"text-align: right;\">\n",
       "      <th></th>\n",
       "      <th>Provincia</th>\n",
       "      <th>Partido</th>\n",
       "      <th>Localidad</th>\n",
       "      <th>Tecnologia</th>\n",
       "      <th>Link Indec</th>\n",
       "      <th>Accesos</th>\n",
       "    </tr>\n",
       "  </thead>\n",
       "  <tbody>\n",
       "    <tr>\n",
       "      <th>0</th>\n",
       "      <td>BUENOS AIRES</td>\n",
       "      <td>25 de Mayo</td>\n",
       "      <td>25 de Mayo</td>\n",
       "      <td>ADSL</td>\n",
       "      <td>6854100</td>\n",
       "      <td>755.0</td>\n",
       "    </tr>\n",
       "    <tr>\n",
       "      <th>1</th>\n",
       "      <td>BUENOS AIRES</td>\n",
       "      <td>25 de Mayo</td>\n",
       "      <td>25 de Mayo</td>\n",
       "      <td>CABLEMODEM</td>\n",
       "      <td>6854100</td>\n",
       "      <td>4600.0</td>\n",
       "    </tr>\n",
       "    <tr>\n",
       "      <th>2</th>\n",
       "      <td>BUENOS AIRES</td>\n",
       "      <td>25 de Mayo</td>\n",
       "      <td>25 de Mayo</td>\n",
       "      <td>FIBRA OPTICA</td>\n",
       "      <td>6854100</td>\n",
       "      <td>2.0</td>\n",
       "    </tr>\n",
       "    <tr>\n",
       "      <th>3</th>\n",
       "      <td>BUENOS AIRES</td>\n",
       "      <td>25 de Mayo</td>\n",
       "      <td>25 de Mayo</td>\n",
       "      <td>SATELITAL</td>\n",
       "      <td>6854100</td>\n",
       "      <td>742.0</td>\n",
       "    </tr>\n",
       "    <tr>\n",
       "      <th>4</th>\n",
       "      <td>BUENOS AIRES</td>\n",
       "      <td>25 de Mayo</td>\n",
       "      <td>25 de Mayo</td>\n",
       "      <td>WIRELESS</td>\n",
       "      <td>6854100</td>\n",
       "      <td>727.0</td>\n",
       "    </tr>\n",
       "  </tbody>\n",
       "</table>\n",
       "</div>"
      ],
      "text/plain": [
       "      Provincia     Partido   Localidad    Tecnologia Link Indec  Accesos\n",
       "0  BUENOS AIRES  25 de Mayo  25 de Mayo          ADSL    6854100    755.0\n",
       "1  BUENOS AIRES  25 de Mayo  25 de Mayo    CABLEMODEM    6854100   4600.0\n",
       "2  BUENOS AIRES  25 de Mayo  25 de Mayo  FIBRA OPTICA    6854100      2.0\n",
       "3  BUENOS AIRES  25 de Mayo  25 de Mayo     SATELITAL    6854100    742.0\n",
       "4  BUENOS AIRES  25 de Mayo  25 de Mayo      WIRELESS    6854100    727.0"
      ]
     },
     "execution_count": 5,
     "metadata": {},
     "output_type": "execute_result"
    }
   ],
   "source": [
    "dataframes['Accesos_tecnologia_localidad'].head()"
   ]
  },
  {
   "cell_type": "code",
   "execution_count": 6,
   "metadata": {},
   "outputs": [
    {
     "name": "stdout",
     "output_type": "stream",
     "text": [
      "3er dataframe:  Accesos_tecnologia_localidad\n",
      "--------------------------------------------------\n",
      "Cantidad de nulos por columna: \n",
      " Provincia     0\n",
      "Partido       0\n",
      "Localidad     0\n",
      "Tecnologia    0\n",
      "Link Indec    0\n",
      "Accesos       6\n",
      "dtype: int64\n",
      "--------------------------------------------------\n",
      "Cantidad de filas duplicadas:  0\n",
      "--------------------------------------------------\n",
      "Tipos de datos: \n",
      " Provincia      object\n",
      "Partido        object\n",
      "Localidad      object\n",
      "Tecnologia     object\n",
      "Link Indec     object\n",
      "Accesos       float64\n",
      "dtype: object\n"
     ]
    }
   ],
   "source": [
    "# Se procede a revisar los valores nulos por columna, filas duplicadas y tipo de dato\n",
    "tercer_dataframe = list(dataframes.keys())[2]\n",
    "print('3er dataframe: ', tercer_dataframe)\n",
    "print('-' * 50)\n",
    "print('Cantidad de nulos por columna: \\n', dataframes['Accesos_tecnologia_localidad'].isnull().sum())\n",
    "print('-' * 50)\n",
    "print('Cantidad de filas duplicadas: ', dataframes['Accesos_tecnologia_localidad'].duplicated().sum())\n",
    "print('-' * 50)\n",
    "print('Tipos de datos: \\n', dataframes['Accesos_tecnologia_localidad'].dtypes)"
   ]
  },
  {
   "cell_type": "code",
   "execution_count": 7,
   "metadata": {},
   "outputs": [
    {
     "data": {
      "text/plain": [
       "array(['BUENOS AIRES', 'CABA', 'CATAMARCA', 'CHACO', 'CHUBUT', 'CORDOBA',\n",
       "       'CORRIENTES', 'ENTRE RIOS', 'FORMOSA', 'JUJUY', 'LA PAMPA',\n",
       "       'LA RIOJA', 'MENDOZA', 'MISIONES', 'NEUQUEN', 'RIO NEGRO', 'SALTA',\n",
       "       'SAN JUAN', 'SAN LUIS', 'SANTA CRUZ', 'SANTA FE',\n",
       "       'SANTIAGO DEL ESTERO', 'TIERRA DEL FUEGO', 'TUCUMAN'], dtype=object)"
      ]
     },
     "execution_count": 7,
     "metadata": {},
     "output_type": "execute_result"
    }
   ],
   "source": [
    "dataframes['Accesos_tecnologia_localidad']['Provincia'].unique()"
   ]
  },
  {
   "cell_type": "code",
   "execution_count": 8,
   "metadata": {},
   "outputs": [
    {
     "data": {
      "text/plain": [
       "array(['Buenos Aires', 'Caba', 'Catamarca', 'Chaco', 'Chubut', 'Cordoba',\n",
       "       'Corrientes', 'Entre Rios', 'Formosa', 'Jujuy', 'La Pampa',\n",
       "       'La Rioja', 'Mendoza', 'Misiones', 'Neuquen', 'Rio Negro', 'Salta',\n",
       "       'San Juan', 'San Luis', 'Santa Cruz', 'Santa Fe',\n",
       "       'Santiago Del Estero', 'Tierra Del Fuego', 'Tucuman'], dtype=object)"
      ]
     },
     "execution_count": 8,
     "metadata": {},
     "output_type": "execute_result"
    }
   ],
   "source": [
    "# Se normalizan los valores.\n",
    "dataframes['Accesos_tecnologia_localidad']['Provincia'] = dataframes['Accesos_tecnologia_localidad']['Provincia'].str.title()\n",
    "dataframes['Accesos_tecnologia_localidad']['Provincia'].unique()"
   ]
  },
  {
   "cell_type": "code",
   "execution_count": 15,
   "metadata": {},
   "outputs": [
    {
     "data": {
      "text/plain": [
       "array(['Buenos Aires', 'Capital Federal', 'Catamarca', 'Chaco', 'Chubut',\n",
       "       'Cordoba', 'Corrientes', 'Entre Rios', 'Formosa', 'Jujuy',\n",
       "       'La Pampa', 'La Rioja', 'Mendoza', 'Misiones', 'Neuquen',\n",
       "       'Rio Negro', 'Salta', 'San Juan', 'San Luis', 'Santa Cruz',\n",
       "       'Santa Fe', 'Santiago Del Estero', 'Tierra Del Fuego', 'Tucuman'],\n",
       "      dtype=object)"
      ]
     },
     "execution_count": 15,
     "metadata": {},
     "output_type": "execute_result"
    }
   ],
   "source": [
    "# Reemplazamos el valor de 'Caba' por 'Capital Federal'\n",
    "dataframes['Accesos_tecnologia_localidad']['Provincia'] = dataframes['Accesos_tecnologia_localidad']['Provincia'].replace('Caba', 'Capital Federal')\n",
    "dataframes['Accesos_tecnologia_localidad']['Provincia'].unique()"
   ]
  },
  {
   "cell_type": "code",
   "execution_count": 9,
   "metadata": {},
   "outputs": [
    {
     "data": {
      "text/html": [
       "<div>\n",
       "<style scoped>\n",
       "    .dataframe tbody tr th:only-of-type {\n",
       "        vertical-align: middle;\n",
       "    }\n",
       "\n",
       "    .dataframe tbody tr th {\n",
       "        vertical-align: top;\n",
       "    }\n",
       "\n",
       "    .dataframe thead th {\n",
       "        text-align: right;\n",
       "    }\n",
       "</style>\n",
       "<table border=\"1\" class=\"dataframe\">\n",
       "  <thead>\n",
       "    <tr style=\"text-align: right;\">\n",
       "      <th></th>\n",
       "      <th>Provincia</th>\n",
       "      <th>Partido</th>\n",
       "      <th>Localidad</th>\n",
       "      <th>Tecnologia</th>\n",
       "      <th>Link Indec</th>\n",
       "      <th>Accesos</th>\n",
       "    </tr>\n",
       "  </thead>\n",
       "  <tbody>\n",
       "    <tr>\n",
       "      <th>3755</th>\n",
       "      <td>Corrientes</td>\n",
       "      <td>Ituzaingó</td>\n",
       "      <td>Colonia Liebig's</td>\n",
       "      <td>Otros</td>\n",
       "      <td>18084010</td>\n",
       "      <td>NaN</td>\n",
       "    </tr>\n",
       "    <tr>\n",
       "      <th>4101</th>\n",
       "      <td>Entre Rios</td>\n",
       "      <td>Tala</td>\n",
       "      <td>Rosario del Tala</td>\n",
       "      <td>Otros</td>\n",
       "      <td>30091100</td>\n",
       "      <td>NaN</td>\n",
       "    </tr>\n",
       "    <tr>\n",
       "      <th>5744</th>\n",
       "      <td>Salta</td>\n",
       "      <td>Cafayate</td>\n",
       "      <td>Tolombón</td>\n",
       "      <td>Otros</td>\n",
       "      <td>66021020</td>\n",
       "      <td>NaN</td>\n",
       "    </tr>\n",
       "    <tr>\n",
       "      <th>6005</th>\n",
       "      <td>Salta</td>\n",
       "      <td>San Carlos</td>\n",
       "      <td>Animaná</td>\n",
       "      <td>Otros</td>\n",
       "      <td>66154020</td>\n",
       "      <td>NaN</td>\n",
       "    </tr>\n",
       "    <tr>\n",
       "      <th>6010</th>\n",
       "      <td>Salta</td>\n",
       "      <td>San Carlos</td>\n",
       "      <td>San Carlos</td>\n",
       "      <td>Otros</td>\n",
       "      <td>66154040</td>\n",
       "      <td>NaN</td>\n",
       "    </tr>\n",
       "    <tr>\n",
       "      <th>7372</th>\n",
       "      <td>Santiago Del Estero</td>\n",
       "      <td>Choya</td>\n",
       "      <td>Frías</td>\n",
       "      <td>Otros</td>\n",
       "      <td>86063040</td>\n",
       "      <td>NaN</td>\n",
       "    </tr>\n",
       "  </tbody>\n",
       "</table>\n",
       "</div>"
      ],
      "text/plain": [
       "                Provincia     Partido         Localidad Tecnologia Link Indec  \\\n",
       "3755           Corrientes   Ituzaingó  Colonia Liebig's      Otros   18084010   \n",
       "4101           Entre Rios        Tala  Rosario del Tala      Otros   30091100   \n",
       "5744                Salta    Cafayate          Tolombón      Otros   66021020   \n",
       "6005                Salta  San Carlos           Animaná      Otros   66154020   \n",
       "6010                Salta  San Carlos        San Carlos      Otros   66154040   \n",
       "7372  Santiago Del Estero       Choya             Frías      Otros   86063040   \n",
       "\n",
       "      Accesos  \n",
       "3755      NaN  \n",
       "4101      NaN  \n",
       "5744      NaN  \n",
       "6005      NaN  \n",
       "6010      NaN  \n",
       "7372      NaN  "
      ]
     },
     "execution_count": 9,
     "metadata": {},
     "output_type": "execute_result"
    }
   ],
   "source": [
    "# Se procedio a identificar cuales eran las filas con valores nulos\n",
    "fila, columna = np.where(dataframes['Accesos_tecnologia_localidad'].isna())\n",
    "dataframes['Accesos_tecnologia_localidad'].iloc[fila]"
   ]
  },
  {
   "cell_type": "code",
   "execution_count": 10,
   "metadata": {},
   "outputs": [
    {
     "name": "stdout",
     "output_type": "stream",
     "text": [
      "La moda para la columna \"accesos\" es:  1.0\n"
     ]
    }
   ],
   "source": [
    "moda_accesos = dataframes['Accesos_tecnologia_localidad']['Accesos'].mode()\n",
    "print('La moda para la columna \"accesos\" es: ', moda_accesos[0])"
   ]
  },
  {
   "cell_type": "code",
   "execution_count": 11,
   "metadata": {},
   "outputs": [
    {
     "data": {
      "text/plain": [
       "Accesos\n",
       "False    7753\n",
       "Name: count, dtype: int64"
      ]
     },
     "execution_count": 11,
     "metadata": {},
     "output_type": "execute_result"
    }
   ],
   "source": [
    "# Tratando de una variable numerica discreta se procedio a rellenar los valores nulos con la moda\n",
    "dataframes['Accesos_tecnologia_localidad']['Accesos'].fillna(moda_accesos[0], inplace=True)\n",
    "dataframes['Accesos_tecnologia_localidad']['Accesos'].isna().value_counts()"
   ]
  },
  {
   "cell_type": "code",
   "execution_count": 12,
   "metadata": {},
   "outputs": [
    {
     "data": {
      "text/plain": [
       "array(['ADSL', 'CABLEMODEM', 'FIBRA OPTICA', 'SATELITAL', 'WIRELESS',\n",
       "       'Otros', 'DIAL UP', 'OTROS', 'WIMAX', 'Cablemodem'], dtype=object)"
      ]
     },
     "execution_count": 12,
     "metadata": {},
     "output_type": "execute_result"
    }
   ],
   "source": [
    "dataframes['Accesos_tecnologia_localidad']['Tecnologia'].unique()"
   ]
  },
  {
   "cell_type": "code",
   "execution_count": 13,
   "metadata": {},
   "outputs": [
    {
     "data": {
      "text/plain": [
       "array(['ADSL', 'CABLEMODEM', 'FIBRA OPTICA', 'SATELITAL', 'WIRELESS',\n",
       "       'OTROS', 'DIAL UP', 'WIMAX'], dtype=object)"
      ]
     },
     "execution_count": 13,
     "metadata": {},
     "output_type": "execute_result"
    }
   ],
   "source": [
    "dataframes['Accesos_tecnologia_localidad']['Tecnologia'] = dataframes['Accesos_tecnologia_localidad']['Tecnologia'].replace('Otros', 'OTROS')\n",
    "dataframes['Accesos_tecnologia_localidad']['Tecnologia'] = dataframes['Accesos_tecnologia_localidad']['Tecnologia'].replace('Cablemodem', 'CABLEMODEM')\n",
    "dataframes['Accesos_tecnologia_localidad']['Tecnologia'].unique()"
   ]
  },
  {
   "cell_type": "code",
   "execution_count": 14,
   "metadata": {},
   "outputs": [
    {
     "data": {
      "text/html": [
       "<div>\n",
       "<style scoped>\n",
       "    .dataframe tbody tr th:only-of-type {\n",
       "        vertical-align: middle;\n",
       "    }\n",
       "\n",
       "    .dataframe tbody tr th {\n",
       "        vertical-align: top;\n",
       "    }\n",
       "\n",
       "    .dataframe thead th {\n",
       "        text-align: right;\n",
       "    }\n",
       "</style>\n",
       "<table border=\"1\" class=\"dataframe\">\n",
       "  <thead>\n",
       "    <tr style=\"text-align: right;\">\n",
       "      <th></th>\n",
       "      <th>Año</th>\n",
       "      <th>Trimestre</th>\n",
       "      <th>Provincia</th>\n",
       "      <th>ADSL</th>\n",
       "      <th>Cablemodem</th>\n",
       "      <th>Fibra óptica</th>\n",
       "      <th>Wireless</th>\n",
       "      <th>Otros</th>\n",
       "      <th>Total</th>\n",
       "    </tr>\n",
       "  </thead>\n",
       "  <tbody>\n",
       "    <tr>\n",
       "      <th>0</th>\n",
       "      <td>2024</td>\n",
       "      <td>2</td>\n",
       "      <td>Buenos Aires</td>\n",
       "      <td>214055.0</td>\n",
       "      <td>2722466.0</td>\n",
       "      <td>1849476.0</td>\n",
       "      <td>138638.0</td>\n",
       "      <td>64745.0</td>\n",
       "      <td>4989380.0</td>\n",
       "    </tr>\n",
       "    <tr>\n",
       "      <th>1</th>\n",
       "      <td>2024</td>\n",
       "      <td>2</td>\n",
       "      <td>Capital Federal</td>\n",
       "      <td>54102.0</td>\n",
       "      <td>1144781.0</td>\n",
       "      <td>230402.0</td>\n",
       "      <td>4493.0</td>\n",
       "      <td>29821.0</td>\n",
       "      <td>1463599.0</td>\n",
       "    </tr>\n",
       "    <tr>\n",
       "      <th>2</th>\n",
       "      <td>2024</td>\n",
       "      <td>2</td>\n",
       "      <td>Catamarca</td>\n",
       "      <td>4951.0</td>\n",
       "      <td>10303.0</td>\n",
       "      <td>58355.0</td>\n",
       "      <td>1384.0</td>\n",
       "      <td>81.0</td>\n",
       "      <td>75074.0</td>\n",
       "    </tr>\n",
       "    <tr>\n",
       "      <th>3</th>\n",
       "      <td>2024</td>\n",
       "      <td>2</td>\n",
       "      <td>Chaco</td>\n",
       "      <td>9448.0</td>\n",
       "      <td>57935.0</td>\n",
       "      <td>68944.0</td>\n",
       "      <td>8407.0</td>\n",
       "      <td>2358.0</td>\n",
       "      <td>147092.0</td>\n",
       "    </tr>\n",
       "    <tr>\n",
       "      <th>4</th>\n",
       "      <td>2024</td>\n",
       "      <td>2</td>\n",
       "      <td>Chubut</td>\n",
       "      <td>25955.0</td>\n",
       "      <td>80704.0</td>\n",
       "      <td>26516.0</td>\n",
       "      <td>31118.0</td>\n",
       "      <td>9930.0</td>\n",
       "      <td>174223.0</td>\n",
       "    </tr>\n",
       "  </tbody>\n",
       "</table>\n",
       "</div>"
      ],
      "text/plain": [
       "    Año Trimestre        Provincia      ADSL  Cablemodem  Fibra óptica  \\\n",
       "0  2024         2     Buenos Aires  214055.0   2722466.0     1849476.0   \n",
       "1  2024         2  Capital Federal   54102.0   1144781.0      230402.0   \n",
       "2  2024         2        Catamarca    4951.0     10303.0       58355.0   \n",
       "3  2024         2            Chaco    9448.0     57935.0       68944.0   \n",
       "4  2024         2           Chubut   25955.0     80704.0       26516.0   \n",
       "\n",
       "   Wireless    Otros      Total  \n",
       "0  138638.0  64745.0  4989380.0  \n",
       "1    4493.0  29821.0  1463599.0  \n",
       "2    1384.0     81.0    75074.0  \n",
       "3    8407.0   2358.0   147092.0  \n",
       "4   31118.0   9930.0   174223.0  "
      ]
     },
     "execution_count": 14,
     "metadata": {},
     "output_type": "execute_result"
    }
   ],
   "source": [
    "dataframes['Accesos Por Tecnología'].head()"
   ]
  },
  {
   "cell_type": "code",
   "execution_count": 27,
   "metadata": {},
   "outputs": [
    {
     "name": "stdout",
     "output_type": "stream",
     "text": [
      "6to dataframe:  Accesos Por Tecnología\n",
      "--------------------------------------------------\n",
      "Cantidad de nulos por columna: \n",
      " Año             1\n",
      "Trimestre       1\n",
      "Provincia       2\n",
      "ADSL            2\n",
      "Cablemodem      2\n",
      "Fibra óptica    2\n",
      "Wireless        2\n",
      "Otros           2\n",
      "Total           2\n",
      "dtype: int64\n",
      "--------------------------------------------------\n",
      "Cantidad de filas duplicadas:  0\n",
      "--------------------------------------------------\n",
      "Tipos de datos: \n",
      " Año              object\n",
      "Trimestre        object\n",
      "Provincia        object\n",
      "ADSL            float64\n",
      "Cablemodem      float64\n",
      "Fibra óptica    float64\n",
      "Wireless        float64\n",
      "Otros           float64\n",
      "Total           float64\n",
      "dtype: object\n"
     ]
    }
   ],
   "source": [
    "# Se procede a revisar los valores nulos por columna, filas duplicadas y tipo de dato\n",
    "septimo_dataframe = list(dataframes.keys())[6]\n",
    "print('6to dataframe: ', septimo_dataframe)\n",
    "print('-' * 50)\n",
    "print('Cantidad de nulos por columna: \\n', dataframes['Accesos Por Tecnología'].isnull().sum())\n",
    "print('-' * 50)\n",
    "print('Cantidad de filas duplicadas: ', dataframes['Accesos Por Tecnología'].duplicated().sum())\n",
    "print('-' * 50)\n",
    "print('Tipos de datos: \\n', dataframes['Accesos Por Tecnología'].dtypes)"
   ]
  },
  {
   "cell_type": "code",
   "execution_count": 28,
   "metadata": {},
   "outputs": [
    {
     "data": {
      "text/html": [
       "<div>\n",
       "<style scoped>\n",
       "    .dataframe tbody tr th:only-of-type {\n",
       "        vertical-align: middle;\n",
       "    }\n",
       "\n",
       "    .dataframe tbody tr th {\n",
       "        vertical-align: top;\n",
       "    }\n",
       "\n",
       "    .dataframe thead th {\n",
       "        text-align: right;\n",
       "    }\n",
       "</style>\n",
       "<table border=\"1\" class=\"dataframe\">\n",
       "  <thead>\n",
       "    <tr style=\"text-align: right;\">\n",
       "      <th></th>\n",
       "      <th>Año</th>\n",
       "      <th>Trimestre</th>\n",
       "      <th>Provincia</th>\n",
       "      <th>ADSL</th>\n",
       "      <th>Cablemodem</th>\n",
       "      <th>Fibra óptica</th>\n",
       "      <th>Wireless</th>\n",
       "      <th>Otros</th>\n",
       "      <th>Total</th>\n",
       "    </tr>\n",
       "  </thead>\n",
       "  <tbody>\n",
       "    <tr>\n",
       "      <th>1007</th>\n",
       "      <td>NaN</td>\n",
       "      <td>NaN</td>\n",
       "      <td>NaN</td>\n",
       "      <td>NaN</td>\n",
       "      <td>NaN</td>\n",
       "      <td>NaN</td>\n",
       "      <td>NaN</td>\n",
       "      <td>NaN</td>\n",
       "      <td>NaN</td>\n",
       "    </tr>\n",
       "    <tr>\n",
       "      <th>1007</th>\n",
       "      <td>NaN</td>\n",
       "      <td>NaN</td>\n",
       "      <td>NaN</td>\n",
       "      <td>NaN</td>\n",
       "      <td>NaN</td>\n",
       "      <td>NaN</td>\n",
       "      <td>NaN</td>\n",
       "      <td>NaN</td>\n",
       "      <td>NaN</td>\n",
       "    </tr>\n",
       "    <tr>\n",
       "      <th>1007</th>\n",
       "      <td>NaN</td>\n",
       "      <td>NaN</td>\n",
       "      <td>NaN</td>\n",
       "      <td>NaN</td>\n",
       "      <td>NaN</td>\n",
       "      <td>NaN</td>\n",
       "      <td>NaN</td>\n",
       "      <td>NaN</td>\n",
       "      <td>NaN</td>\n",
       "    </tr>\n",
       "    <tr>\n",
       "      <th>1007</th>\n",
       "      <td>NaN</td>\n",
       "      <td>NaN</td>\n",
       "      <td>NaN</td>\n",
       "      <td>NaN</td>\n",
       "      <td>NaN</td>\n",
       "      <td>NaN</td>\n",
       "      <td>NaN</td>\n",
       "      <td>NaN</td>\n",
       "      <td>NaN</td>\n",
       "    </tr>\n",
       "    <tr>\n",
       "      <th>1007</th>\n",
       "      <td>NaN</td>\n",
       "      <td>NaN</td>\n",
       "      <td>NaN</td>\n",
       "      <td>NaN</td>\n",
       "      <td>NaN</td>\n",
       "      <td>NaN</td>\n",
       "      <td>NaN</td>\n",
       "      <td>NaN</td>\n",
       "      <td>NaN</td>\n",
       "    </tr>\n",
       "    <tr>\n",
       "      <th>1007</th>\n",
       "      <td>NaN</td>\n",
       "      <td>NaN</td>\n",
       "      <td>NaN</td>\n",
       "      <td>NaN</td>\n",
       "      <td>NaN</td>\n",
       "      <td>NaN</td>\n",
       "      <td>NaN</td>\n",
       "      <td>NaN</td>\n",
       "      <td>NaN</td>\n",
       "    </tr>\n",
       "    <tr>\n",
       "      <th>1007</th>\n",
       "      <td>NaN</td>\n",
       "      <td>NaN</td>\n",
       "      <td>NaN</td>\n",
       "      <td>NaN</td>\n",
       "      <td>NaN</td>\n",
       "      <td>NaN</td>\n",
       "      <td>NaN</td>\n",
       "      <td>NaN</td>\n",
       "      <td>NaN</td>\n",
       "    </tr>\n",
       "    <tr>\n",
       "      <th>1007</th>\n",
       "      <td>NaN</td>\n",
       "      <td>NaN</td>\n",
       "      <td>NaN</td>\n",
       "      <td>NaN</td>\n",
       "      <td>NaN</td>\n",
       "      <td>NaN</td>\n",
       "      <td>NaN</td>\n",
       "      <td>NaN</td>\n",
       "      <td>NaN</td>\n",
       "    </tr>\n",
       "    <tr>\n",
       "      <th>1007</th>\n",
       "      <td>NaN</td>\n",
       "      <td>NaN</td>\n",
       "      <td>NaN</td>\n",
       "      <td>NaN</td>\n",
       "      <td>NaN</td>\n",
       "      <td>NaN</td>\n",
       "      <td>NaN</td>\n",
       "      <td>NaN</td>\n",
       "      <td>NaN</td>\n",
       "    </tr>\n",
       "    <tr>\n",
       "      <th>1008</th>\n",
       "      <td>*</td>\n",
       "      <td>Los datos provinciales no coinciden a nivel na...</td>\n",
       "      <td>NaN</td>\n",
       "      <td>NaN</td>\n",
       "      <td>NaN</td>\n",
       "      <td>NaN</td>\n",
       "      <td>NaN</td>\n",
       "      <td>NaN</td>\n",
       "      <td>NaN</td>\n",
       "    </tr>\n",
       "    <tr>\n",
       "      <th>1008</th>\n",
       "      <td>*</td>\n",
       "      <td>Los datos provinciales no coinciden a nivel na...</td>\n",
       "      <td>NaN</td>\n",
       "      <td>NaN</td>\n",
       "      <td>NaN</td>\n",
       "      <td>NaN</td>\n",
       "      <td>NaN</td>\n",
       "      <td>NaN</td>\n",
       "      <td>NaN</td>\n",
       "    </tr>\n",
       "    <tr>\n",
       "      <th>1008</th>\n",
       "      <td>*</td>\n",
       "      <td>Los datos provinciales no coinciden a nivel na...</td>\n",
       "      <td>NaN</td>\n",
       "      <td>NaN</td>\n",
       "      <td>NaN</td>\n",
       "      <td>NaN</td>\n",
       "      <td>NaN</td>\n",
       "      <td>NaN</td>\n",
       "      <td>NaN</td>\n",
       "    </tr>\n",
       "    <tr>\n",
       "      <th>1008</th>\n",
       "      <td>*</td>\n",
       "      <td>Los datos provinciales no coinciden a nivel na...</td>\n",
       "      <td>NaN</td>\n",
       "      <td>NaN</td>\n",
       "      <td>NaN</td>\n",
       "      <td>NaN</td>\n",
       "      <td>NaN</td>\n",
       "      <td>NaN</td>\n",
       "      <td>NaN</td>\n",
       "    </tr>\n",
       "    <tr>\n",
       "      <th>1008</th>\n",
       "      <td>*</td>\n",
       "      <td>Los datos provinciales no coinciden a nivel na...</td>\n",
       "      <td>NaN</td>\n",
       "      <td>NaN</td>\n",
       "      <td>NaN</td>\n",
       "      <td>NaN</td>\n",
       "      <td>NaN</td>\n",
       "      <td>NaN</td>\n",
       "      <td>NaN</td>\n",
       "    </tr>\n",
       "    <tr>\n",
       "      <th>1008</th>\n",
       "      <td>*</td>\n",
       "      <td>Los datos provinciales no coinciden a nivel na...</td>\n",
       "      <td>NaN</td>\n",
       "      <td>NaN</td>\n",
       "      <td>NaN</td>\n",
       "      <td>NaN</td>\n",
       "      <td>NaN</td>\n",
       "      <td>NaN</td>\n",
       "      <td>NaN</td>\n",
       "    </tr>\n",
       "    <tr>\n",
       "      <th>1008</th>\n",
       "      <td>*</td>\n",
       "      <td>Los datos provinciales no coinciden a nivel na...</td>\n",
       "      <td>NaN</td>\n",
       "      <td>NaN</td>\n",
       "      <td>NaN</td>\n",
       "      <td>NaN</td>\n",
       "      <td>NaN</td>\n",
       "      <td>NaN</td>\n",
       "      <td>NaN</td>\n",
       "    </tr>\n",
       "  </tbody>\n",
       "</table>\n",
       "</div>"
      ],
      "text/plain": [
       "      Año                                          Trimestre Provincia  ADSL  \\\n",
       "1007  NaN                                                NaN       NaN   NaN   \n",
       "1007  NaN                                                NaN       NaN   NaN   \n",
       "1007  NaN                                                NaN       NaN   NaN   \n",
       "1007  NaN                                                NaN       NaN   NaN   \n",
       "1007  NaN                                                NaN       NaN   NaN   \n",
       "1007  NaN                                                NaN       NaN   NaN   \n",
       "1007  NaN                                                NaN       NaN   NaN   \n",
       "1007  NaN                                                NaN       NaN   NaN   \n",
       "1007  NaN                                                NaN       NaN   NaN   \n",
       "1008    *  Los datos provinciales no coinciden a nivel na...       NaN   NaN   \n",
       "1008    *  Los datos provinciales no coinciden a nivel na...       NaN   NaN   \n",
       "1008    *  Los datos provinciales no coinciden a nivel na...       NaN   NaN   \n",
       "1008    *  Los datos provinciales no coinciden a nivel na...       NaN   NaN   \n",
       "1008    *  Los datos provinciales no coinciden a nivel na...       NaN   NaN   \n",
       "1008    *  Los datos provinciales no coinciden a nivel na...       NaN   NaN   \n",
       "1008    *  Los datos provinciales no coinciden a nivel na...       NaN   NaN   \n",
       "\n",
       "      Cablemodem  Fibra óptica  Wireless  Otros  Total  \n",
       "1007         NaN           NaN       NaN    NaN    NaN  \n",
       "1007         NaN           NaN       NaN    NaN    NaN  \n",
       "1007         NaN           NaN       NaN    NaN    NaN  \n",
       "1007         NaN           NaN       NaN    NaN    NaN  \n",
       "1007         NaN           NaN       NaN    NaN    NaN  \n",
       "1007         NaN           NaN       NaN    NaN    NaN  \n",
       "1007         NaN           NaN       NaN    NaN    NaN  \n",
       "1007         NaN           NaN       NaN    NaN    NaN  \n",
       "1007         NaN           NaN       NaN    NaN    NaN  \n",
       "1008         NaN           NaN       NaN    NaN    NaN  \n",
       "1008         NaN           NaN       NaN    NaN    NaN  \n",
       "1008         NaN           NaN       NaN    NaN    NaN  \n",
       "1008         NaN           NaN       NaN    NaN    NaN  \n",
       "1008         NaN           NaN       NaN    NaN    NaN  \n",
       "1008         NaN           NaN       NaN    NaN    NaN  \n",
       "1008         NaN           NaN       NaN    NaN    NaN  "
      ]
     },
     "execution_count": 28,
     "metadata": {},
     "output_type": "execute_result"
    }
   ],
   "source": [
    "# Se procedio a identificar cuales eran las filas con valores nulos\n",
    "fila, columna = np.where(dataframes['Accesos Por Tecnología'].isna())\n",
    "dataframes['Accesos Por Tecnología'].iloc[fila]"
   ]
  },
  {
   "cell_type": "code",
   "execution_count": 29,
   "metadata": {},
   "outputs": [],
   "source": [
    "# Se proceden a eliminar los valores nulos\n",
    "dataframes['Accesos Por Tecnología'].dropna(inplace= True)"
   ]
  },
  {
   "cell_type": "code",
   "execution_count": 30,
   "metadata": {},
   "outputs": [
    {
     "name": "stdout",
     "output_type": "stream",
     "text": [
      "6to dataframe:  Accesos Por Tecnología\n",
      "--------------------------------------------------\n",
      "Cantidad de nulos por columna: \n",
      " Año             0\n",
      "Trimestre       0\n",
      "Provincia       0\n",
      "ADSL            0\n",
      "Cablemodem      0\n",
      "Fibra óptica    0\n",
      "Wireless        0\n",
      "Otros           0\n",
      "Total           0\n",
      "dtype: int64\n",
      "--------------------------------------------------\n",
      "Cantidad de filas duplicadas:  0\n",
      "--------------------------------------------------\n",
      "Tipos de datos: \n",
      " Año              object\n",
      "Trimestre        object\n",
      "Provincia        object\n",
      "ADSL            float64\n",
      "Cablemodem      float64\n",
      "Fibra óptica    float64\n",
      "Wireless        float64\n",
      "Otros           float64\n",
      "Total           float64\n",
      "dtype: object\n"
     ]
    }
   ],
   "source": [
    "# Se procede a revisar los valores nulos por columna, filas duplicadas y tipo de dato\n",
    "sexto_dataframe = list(dataframes.keys())[6]\n",
    "print('6to dataframe: ', sexto_dataframe)\n",
    "print('-' * 50)\n",
    "print('Cantidad de nulos por columna: \\n', dataframes['Accesos Por Tecnología'].isnull().sum())\n",
    "print('-' * 50)\n",
    "print('Cantidad de filas duplicadas: ', dataframes['Accesos Por Tecnología'].duplicated().sum())\n",
    "print('-' * 50)\n",
    "print('Tipos de datos: \\n', dataframes['Accesos Por Tecnología'].dtypes)"
   ]
  },
  {
   "cell_type": "code",
   "execution_count": 31,
   "metadata": {},
   "outputs": [
    {
     "data": {
      "text/plain": [
       "array([2, 1, 4, 3, '3 *', '2 *', '1 *'], dtype=object)"
      ]
     },
     "execution_count": 31,
     "metadata": {},
     "output_type": "execute_result"
    }
   ],
   "source": [
    "# Procedemos a explorar los valores unicos de la columna 'trimestre'\n",
    "dataframes['Accesos Por Tecnología']['Trimestre'].unique()"
   ]
  },
  {
   "cell_type": "code",
   "execution_count": 32,
   "metadata": {},
   "outputs": [
    {
     "data": {
      "text/plain": [
       "array([2, 1, 4, 3, '3', '2', '1'], dtype=object)"
      ]
     },
     "execution_count": 32,
     "metadata": {},
     "output_type": "execute_result"
    }
   ],
   "source": [
    "# Se procede a reemplazar valores \n",
    "dataframes['Accesos Por Tecnología']['Trimestre'] = dataframes['Accesos Por Tecnología']['Trimestre'].replace('3 *', '3')\n",
    "dataframes['Accesos Por Tecnología']['Trimestre'] = dataframes['Accesos Por Tecnología']['Trimestre'].replace('2 *', '2')\n",
    "dataframes['Accesos Por Tecnología']['Trimestre'] = dataframes['Accesos Por Tecnología']['Trimestre'].replace('1 *', '1')\n",
    "dataframes['Accesos Por Tecnología']['Trimestre'].unique()"
   ]
  },
  {
   "cell_type": "code",
   "execution_count": 33,
   "metadata": {},
   "outputs": [
    {
     "data": {
      "text/plain": [
       "array([2, 1, 4, 3])"
      ]
     },
     "execution_count": 33,
     "metadata": {},
     "output_type": "execute_result"
    }
   ],
   "source": [
    "# Se convirtieron los valores a formato a numerico con el obj de unificar\n",
    "dataframes['Accesos Por Tecnología']['Trimestre'] = pd.to_numeric(dataframes['Accesos Por Tecnología']['Trimestre'], errors= 'coerce')\n",
    "dataframes['Accesos Por Tecnología']['Trimestre'].unique()"
   ]
  },
  {
   "cell_type": "code",
   "execution_count": 34,
   "metadata": {},
   "outputs": [
    {
     "data": {
      "text/plain": [
       "array([2024, 2023, 2022, 2021, 2020, 2019, '2019 *', 2018, 2017, 2016,\n",
       "       2015, 2014], dtype=object)"
      ]
     },
     "execution_count": 34,
     "metadata": {},
     "output_type": "execute_result"
    }
   ],
   "source": [
    "# Procedemos a explorar los valores unicos de la columna 'Año'\n",
    "dataframes['Accesos Por Tecnología']['Año'].unique()"
   ]
  },
  {
   "cell_type": "code",
   "execution_count": 35,
   "metadata": {},
   "outputs": [
    {
     "data": {
      "text/plain": [
       "array([2024, 2023, 2022, 2021, 2020, 2019, '2019', 2018, 2017, 2016, 2015,\n",
       "       2014], dtype=object)"
      ]
     },
     "execution_count": 35,
     "metadata": {},
     "output_type": "execute_result"
    }
   ],
   "source": [
    "# Se procede a reemplazar valores \n",
    "dataframes['Accesos Por Tecnología']['Año'] = dataframes['Accesos Por Tecnología']['Año'].replace('2019 *', '2019')\n",
    "dataframes['Accesos Por Tecnología']['Año'].unique()"
   ]
  },
  {
   "cell_type": "code",
   "execution_count": 36,
   "metadata": {},
   "outputs": [
    {
     "data": {
      "text/plain": [
       "array([2024, 2023, 2022, 2021, 2020, 2019, 2018, 2017, 2016, 2015, 2014])"
      ]
     },
     "execution_count": 36,
     "metadata": {},
     "output_type": "execute_result"
    }
   ],
   "source": [
    "# Se convirtieron los valores a formato a numerico con el obj de unificar\n",
    "dataframes['Accesos Por Tecnología']['Año'] = pd.to_numeric(dataframes['Accesos Por Tecnología']['Año'], errors= 'coerce')\n",
    "dataframes['Accesos Por Tecnología']['Año'].unique()"
   ]
  },
  {
   "cell_type": "code",
   "execution_count": 37,
   "metadata": {},
   "outputs": [
    {
     "name": "stdout",
     "output_type": "stream",
     "text": [
      "<class 'pandas.core.frame.DataFrame'>\n",
      "Index: 1007 entries, 0 to 1006\n",
      "Data columns (total 9 columns):\n",
      " #   Column        Non-Null Count  Dtype  \n",
      "---  ------        --------------  -----  \n",
      " 0   Año           1007 non-null   int64  \n",
      " 1   Trimestre     1007 non-null   int64  \n",
      " 2   Provincia     1007 non-null   object \n",
      " 3   ADSL          1007 non-null   float64\n",
      " 4   Cablemodem    1007 non-null   float64\n",
      " 5   Fibra óptica  1007 non-null   float64\n",
      " 6   Wireless      1007 non-null   float64\n",
      " 7   Otros         1007 non-null   float64\n",
      " 8   Total         1007 non-null   float64\n",
      "dtypes: float64(6), int64(2), object(1)\n",
      "memory usage: 78.7+ KB\n"
     ]
    }
   ],
   "source": [
    "# Se imprimen los tipos de datos por columna\n",
    "dataframes['Accesos Por Tecnología'].info()"
   ]
  },
  {
   "cell_type": "code",
   "execution_count": 38,
   "metadata": {},
   "outputs": [
    {
     "data": {
      "text/plain": [
       "array(['Buenos Aires', 'Capital Federal', 'Catamarca', 'Chaco', 'Chubut',\n",
       "       'Córdoba', 'Corrientes', 'Entre Ríos', 'Formosa', 'Jujuy',\n",
       "       'La Pampa', 'La Rioja', 'Mendoza', 'Misiones', 'Neuquén',\n",
       "       'Río Negro', 'Salta', 'San Juan', 'San Luis', 'Santa Cruz',\n",
       "       'Santa Fe', 'Santiago Del Estero', 'Tierra Del Fuego', 'Tucumán'],\n",
       "      dtype=object)"
      ]
     },
     "execution_count": 38,
     "metadata": {},
     "output_type": "execute_result"
    }
   ],
   "source": [
    "dataframes['Accesos Por Tecnología']['Provincia'].unique()"
   ]
  },
  {
   "cell_type": "code",
   "execution_count": 39,
   "metadata": {},
   "outputs": [
    {
     "data": {
      "text/plain": [
       "array(['Buenos Aires', 'Capital Federal', 'Catamarca', 'Chaco', 'Chubut',\n",
       "       'Cordoba', 'Corrientes', 'Entre Rios', 'Formosa', 'Jujuy',\n",
       "       'La Pampa', 'La Rioja', 'Mendoza', 'Misiones', 'Neuquen',\n",
       "       'Rio Negro', 'Salta', 'San Juan', 'San Luis', 'Santa Cruz',\n",
       "       'Santa Fe', 'Santiago Del Estero', 'Tierra Del Fuego', 'Tucuman'],\n",
       "      dtype=object)"
      ]
     },
     "execution_count": 39,
     "metadata": {},
     "output_type": "execute_result"
    }
   ],
   "source": [
    "# Se procede a reemplazar valores cuya diferencia es un acento\n",
    "dataframes['Accesos Por Tecnología']['Provincia'] = dataframes['Accesos Por Tecnología']['Provincia'].replace('Córdoba', 'Cordoba')\n",
    "dataframes['Accesos Por Tecnología']['Provincia'] = dataframes['Accesos Por Tecnología']['Provincia'].replace('Entre Ríos', 'Entre Rios')\n",
    "dataframes['Accesos Por Tecnología']['Provincia'] = dataframes['Accesos Por Tecnología']['Provincia'].replace('Neuquén', 'Neuquen')\n",
    "dataframes['Accesos Por Tecnología']['Provincia'] = dataframes['Accesos Por Tecnología']['Provincia'].replace('Río Negro', 'Rio Negro')\n",
    "dataframes['Accesos Por Tecnología']['Provincia'] = dataframes['Accesos Por Tecnología']['Provincia'].replace('Tucumán', 'Tucuman')\n",
    "dataframes['Accesos Por Tecnología']['Provincia'].unique()"
   ]
  },
  {
   "cell_type": "code",
   "execution_count": 40,
   "metadata": {},
   "outputs": [],
   "source": [
    "# Procedemos a ordenar las filas en orden ascendente por las columnas [Año y Trimestre]\n",
    "dataframes['Accesos Por Tecnología'] = dataframes['Accesos Por Tecnología'].sort_values(by=['Año', 'Trimestre']).reset_index(drop=True)"
   ]
  },
  {
   "cell_type": "code",
   "execution_count": 41,
   "metadata": {},
   "outputs": [
    {
     "data": {
      "text/html": [
       "<div>\n",
       "<style scoped>\n",
       "    .dataframe tbody tr th:only-of-type {\n",
       "        vertical-align: middle;\n",
       "    }\n",
       "\n",
       "    .dataframe tbody tr th {\n",
       "        vertical-align: top;\n",
       "    }\n",
       "\n",
       "    .dataframe thead th {\n",
       "        text-align: right;\n",
       "    }\n",
       "</style>\n",
       "<table border=\"1\" class=\"dataframe\">\n",
       "  <thead>\n",
       "    <tr style=\"text-align: right;\">\n",
       "      <th></th>\n",
       "      <th>Año</th>\n",
       "      <th>Trimestre</th>\n",
       "      <th>Provincia</th>\n",
       "      <th>ADSL</th>\n",
       "      <th>Cablemodem</th>\n",
       "      <th>Fibra óptica</th>\n",
       "      <th>Wireless</th>\n",
       "      <th>Otros</th>\n",
       "      <th>Total</th>\n",
       "    </tr>\n",
       "  </thead>\n",
       "  <tbody>\n",
       "    <tr>\n",
       "      <th>0</th>\n",
       "      <td>2014</td>\n",
       "      <td>1</td>\n",
       "      <td>Buenos Aires</td>\n",
       "      <td>1567685.0</td>\n",
       "      <td>1000879.0</td>\n",
       "      <td>120960.0</td>\n",
       "      <td>16528.0</td>\n",
       "      <td>33824.0</td>\n",
       "      <td>2739876.0</td>\n",
       "    </tr>\n",
       "    <tr>\n",
       "      <th>1</th>\n",
       "      <td>2014</td>\n",
       "      <td>1</td>\n",
       "      <td>Capital Federal</td>\n",
       "      <td>445569.0</td>\n",
       "      <td>820161.0</td>\n",
       "      <td>17767.0</td>\n",
       "      <td>1866.0</td>\n",
       "      <td>14555.0</td>\n",
       "      <td>1299918.0</td>\n",
       "    </tr>\n",
       "    <tr>\n",
       "      <th>2</th>\n",
       "      <td>2014</td>\n",
       "      <td>1</td>\n",
       "      <td>Catamarca</td>\n",
       "      <td>24126.0</td>\n",
       "      <td>46.0</td>\n",
       "      <td>17.0</td>\n",
       "      <td>0.0</td>\n",
       "      <td>43.0</td>\n",
       "      <td>24232.0</td>\n",
       "    </tr>\n",
       "    <tr>\n",
       "      <th>3</th>\n",
       "      <td>2014</td>\n",
       "      <td>1</td>\n",
       "      <td>Chaco</td>\n",
       "      <td>52971.0</td>\n",
       "      <td>9497.0</td>\n",
       "      <td>30.0</td>\n",
       "      <td>0.0</td>\n",
       "      <td>58.0</td>\n",
       "      <td>62556.0</td>\n",
       "    </tr>\n",
       "    <tr>\n",
       "      <th>4</th>\n",
       "      <td>2014</td>\n",
       "      <td>1</td>\n",
       "      <td>Chubut</td>\n",
       "      <td>51066.0</td>\n",
       "      <td>539.0</td>\n",
       "      <td>866.0</td>\n",
       "      <td>10776.0</td>\n",
       "      <td>6974.0</td>\n",
       "      <td>70221.0</td>\n",
       "    </tr>\n",
       "  </tbody>\n",
       "</table>\n",
       "</div>"
      ],
      "text/plain": [
       "    Año  Trimestre        Provincia       ADSL  Cablemodem  Fibra óptica  \\\n",
       "0  2014          1     Buenos Aires  1567685.0   1000879.0      120960.0   \n",
       "1  2014          1  Capital Federal   445569.0    820161.0       17767.0   \n",
       "2  2014          1        Catamarca    24126.0        46.0          17.0   \n",
       "3  2014          1            Chaco    52971.0      9497.0          30.0   \n",
       "4  2014          1           Chubut    51066.0       539.0         866.0   \n",
       "\n",
       "   Wireless    Otros      Total  \n",
       "0   16528.0  33824.0  2739876.0  \n",
       "1    1866.0  14555.0  1299918.0  \n",
       "2       0.0     43.0    24232.0  \n",
       "3       0.0     58.0    62556.0  \n",
       "4   10776.0   6974.0    70221.0  "
      ]
     },
     "execution_count": 41,
     "metadata": {},
     "output_type": "execute_result"
    }
   ],
   "source": [
    "dataframes['Accesos Por Tecnología'].head()"
   ]
  },
  {
   "cell_type": "markdown",
   "metadata": {},
   "source": [
    "### ETL para KPI 2 (Velocidad_sin_Rangos, Velocidad % por prov, Totales VMD)"
   ]
  },
  {
   "cell_type": "markdown",
   "metadata": {},
   "source": [
    "#### Velocidad_sin_Rangos"
   ]
  },
  {
   "cell_type": "code",
   "execution_count": 42,
   "metadata": {},
   "outputs": [
    {
     "name": "stdout",
     "output_type": "stream",
     "text": [
      "Acc_vel_loc_sinrangos\n",
      "Velocidad_sin_Rangos\n",
      "Accesos_tecnologia_localidad\n",
      "Velocidad % por prov\n",
      "Totales VMD\n",
      "Totales Accesos Por Tecnología\n",
      "Accesos Por Tecnología\n",
      "Penetración-poblacion\n",
      "Penetracion-hogares\n",
      "Penetracion-totales\n",
      "Totales Accesos por rango\n",
      "Accesos por rangos\n",
      "Dial-BAf\n",
      "Totales Dial-BAf\n",
      "Ingresos \n"
     ]
    }
   ],
   "source": [
    "# Imprimir cada dataframe\n",
    "for dataframe in dataframes.keys():\n",
    "    print(dataframe)"
   ]
  },
  {
   "cell_type": "code",
   "execution_count": 43,
   "metadata": {},
   "outputs": [
    {
     "data": {
      "text/html": [
       "<div>\n",
       "<style scoped>\n",
       "    .dataframe tbody tr th:only-of-type {\n",
       "        vertical-align: middle;\n",
       "    }\n",
       "\n",
       "    .dataframe tbody tr th {\n",
       "        vertical-align: top;\n",
       "    }\n",
       "\n",
       "    .dataframe thead th {\n",
       "        text-align: right;\n",
       "    }\n",
       "</style>\n",
       "<table border=\"1\" class=\"dataframe\">\n",
       "  <thead>\n",
       "    <tr style=\"text-align: right;\">\n",
       "      <th></th>\n",
       "      <th>Año</th>\n",
       "      <th>Trimestre</th>\n",
       "      <th>Provincia</th>\n",
       "      <th>Velocidad</th>\n",
       "      <th>Accesos</th>\n",
       "    </tr>\n",
       "  </thead>\n",
       "  <tbody>\n",
       "    <tr>\n",
       "      <th>0</th>\n",
       "      <td>2024</td>\n",
       "      <td>2</td>\n",
       "      <td>BUENOS AIRES</td>\n",
       "      <td>75.0</td>\n",
       "      <td>1062</td>\n",
       "    </tr>\n",
       "    <tr>\n",
       "      <th>1</th>\n",
       "      <td>2024</td>\n",
       "      <td>2</td>\n",
       "      <td>BUENOS AIRES</td>\n",
       "      <td>59.0</td>\n",
       "      <td>59</td>\n",
       "    </tr>\n",
       "    <tr>\n",
       "      <th>2</th>\n",
       "      <td>2024</td>\n",
       "      <td>2</td>\n",
       "      <td>BUENOS AIRES</td>\n",
       "      <td>480.0</td>\n",
       "      <td>5</td>\n",
       "    </tr>\n",
       "    <tr>\n",
       "      <th>3</th>\n",
       "      <td>2024</td>\n",
       "      <td>2</td>\n",
       "      <td>BUENOS AIRES</td>\n",
       "      <td>3.5</td>\n",
       "      <td>41735</td>\n",
       "    </tr>\n",
       "    <tr>\n",
       "      <th>4</th>\n",
       "      <td>2024</td>\n",
       "      <td>2</td>\n",
       "      <td>BUENOS AIRES</td>\n",
       "      <td>18.0</td>\n",
       "      <td>1042</td>\n",
       "    </tr>\n",
       "  </tbody>\n",
       "</table>\n",
       "</div>"
      ],
      "text/plain": [
       "    Año  Trimestre     Provincia  Velocidad  Accesos\n",
       "0  2024          2  BUENOS AIRES       75.0     1062\n",
       "1  2024          2  BUENOS AIRES       59.0       59\n",
       "2  2024          2  BUENOS AIRES      480.0        5\n",
       "3  2024          2  BUENOS AIRES        3.5    41735\n",
       "4  2024          2  BUENOS AIRES       18.0     1042"
      ]
     },
     "execution_count": 43,
     "metadata": {},
     "output_type": "execute_result"
    }
   ],
   "source": [
    "# Previsualizacion del dataframe\n",
    "dataframes['Velocidad_sin_Rangos'].head()"
   ]
  },
  {
   "cell_type": "code",
   "execution_count": 44,
   "metadata": {},
   "outputs": [
    {
     "data": {
      "text/html": [
       "<div>\n",
       "<style scoped>\n",
       "    .dataframe tbody tr th:only-of-type {\n",
       "        vertical-align: middle;\n",
       "    }\n",
       "\n",
       "    .dataframe tbody tr th {\n",
       "        vertical-align: top;\n",
       "    }\n",
       "\n",
       "    .dataframe thead th {\n",
       "        text-align: right;\n",
       "    }\n",
       "</style>\n",
       "<table border=\"1\" class=\"dataframe\">\n",
       "  <thead>\n",
       "    <tr style=\"text-align: right;\">\n",
       "      <th></th>\n",
       "      <th>Año</th>\n",
       "      <th>Trimestre</th>\n",
       "      <th>Provincia</th>\n",
       "      <th>Velocidad (Mbps)</th>\n",
       "      <th>Accesos</th>\n",
       "    </tr>\n",
       "  </thead>\n",
       "  <tbody>\n",
       "    <tr>\n",
       "      <th>0</th>\n",
       "      <td>2024</td>\n",
       "      <td>2</td>\n",
       "      <td>BUENOS AIRES</td>\n",
       "      <td>75.0</td>\n",
       "      <td>1062</td>\n",
       "    </tr>\n",
       "    <tr>\n",
       "      <th>1</th>\n",
       "      <td>2024</td>\n",
       "      <td>2</td>\n",
       "      <td>BUENOS AIRES</td>\n",
       "      <td>59.0</td>\n",
       "      <td>59</td>\n",
       "    </tr>\n",
       "    <tr>\n",
       "      <th>2</th>\n",
       "      <td>2024</td>\n",
       "      <td>2</td>\n",
       "      <td>BUENOS AIRES</td>\n",
       "      <td>480.0</td>\n",
       "      <td>5</td>\n",
       "    </tr>\n",
       "    <tr>\n",
       "      <th>3</th>\n",
       "      <td>2024</td>\n",
       "      <td>2</td>\n",
       "      <td>BUENOS AIRES</td>\n",
       "      <td>3.5</td>\n",
       "      <td>41735</td>\n",
       "    </tr>\n",
       "    <tr>\n",
       "      <th>4</th>\n",
       "      <td>2024</td>\n",
       "      <td>2</td>\n",
       "      <td>BUENOS AIRES</td>\n",
       "      <td>18.0</td>\n",
       "      <td>1042</td>\n",
       "    </tr>\n",
       "  </tbody>\n",
       "</table>\n",
       "</div>"
      ],
      "text/plain": [
       "    Año  Trimestre     Provincia  Velocidad (Mbps)  Accesos\n",
       "0  2024          2  BUENOS AIRES              75.0     1062\n",
       "1  2024          2  BUENOS AIRES              59.0       59\n",
       "2  2024          2  BUENOS AIRES             480.0        5\n",
       "3  2024          2  BUENOS AIRES               3.5    41735\n",
       "4  2024          2  BUENOS AIRES              18.0     1042"
      ]
     },
     "execution_count": 44,
     "metadata": {},
     "output_type": "execute_result"
    }
   ],
   "source": [
    "# Se procede a renombrar las columnas correctamente\n",
    "dataframes['Velocidad_sin_Rangos'].rename(columns= {'Velocidad': 'Velocidad (Mbps)'}, inplace=True)\n",
    "dataframes['Velocidad_sin_Rangos'].head()"
   ]
  },
  {
   "cell_type": "code",
   "execution_count": 45,
   "metadata": {},
   "outputs": [
    {
     "name": "stdout",
     "output_type": "stream",
     "text": [
      "2do dataframe:  Velocidad_sin_Rangos\n",
      "--------------------------------------------------\n",
      "Cantidad de nulos por columna: \n",
      " Año                  0\n",
      "Trimestre            0\n",
      "Provincia            0\n",
      "Velocidad (Mbps)    10\n",
      "Accesos              0\n",
      "dtype: int64\n",
      "--------------------------------------------------\n",
      "Cantidad de filas duplicadas:  0\n",
      "--------------------------------------------------\n",
      "Tipos de datos: \n",
      " Año                   int64\n",
      "Trimestre             int64\n",
      "Provincia            object\n",
      "Velocidad (Mbps)    float64\n",
      "Accesos               int64\n",
      "dtype: object\n"
     ]
    }
   ],
   "source": [
    "# Se procede a revisar los valores nulos por columna, filas duplicadas y tipo de dato\n",
    "segundo_dataframe = list(dataframes.keys())[1]\n",
    "print('2do dataframe: ', segundo_dataframe)\n",
    "print('-' * 50)\n",
    "print('Cantidad de nulos por columna: \\n', dataframes['Velocidad_sin_Rangos'].isnull().sum())\n",
    "print('-' * 50)\n",
    "print('Cantidad de filas duplicadas: ', dataframes['Velocidad_sin_Rangos'].duplicated().sum())\n",
    "print('-' * 50)\n",
    "print('Tipos de datos: \\n', dataframes['Velocidad_sin_Rangos'].dtypes)"
   ]
  },
  {
   "cell_type": "code",
   "execution_count": 46,
   "metadata": {},
   "outputs": [
    {
     "data": {
      "text/plain": [
       "array(['BUENOS AIRES', 'CABA', 'CATAMARCA', 'CHACO', 'CHUBUT', 'CORDOBA',\n",
       "       'CORRIENTES', 'ENTRE RIOS', 'FORMOSA', 'JUJUY', 'LA PAMPA',\n",
       "       'LA RIOJA', 'MENDOZA', 'MISIONES', 'NEUQUEN', 'RIO NEGRO', 'SALTA',\n",
       "       'SAN JUAN', 'SAN LUIS', 'SANTA CRUZ', 'SANTA FE',\n",
       "       'SANTIAGO DEL ESTERO', 'TIERRA DEL FUEGO', 'TUCUMAN',\n",
       "       'Buenos Aires', 'Capital Federal', 'Catamarca', 'Chaco', 'Chubut',\n",
       "       'Córdoba', 'Corrientes', 'Entre Ríos', 'Formosa', 'Jujuy',\n",
       "       'La Pampa', 'La Rioja', 'Mendoza', 'Misiones', 'Neuquén',\n",
       "       'Río Negro', 'Salta', 'San Juan', 'San Luis', 'Santa Cruz',\n",
       "       'Santa Fe', 'Santiago Del Estero', 'Tierra Del Fuego', 'Tucumán'],\n",
       "      dtype=object)"
      ]
     },
     "execution_count": 46,
     "metadata": {},
     "output_type": "execute_result"
    }
   ],
   "source": [
    "# Se revisan los valores unicos por columna\n",
    "dataframes['Velocidad_sin_Rangos']['Provincia'].unique()"
   ]
  },
  {
   "cell_type": "code",
   "execution_count": 47,
   "metadata": {},
   "outputs": [
    {
     "data": {
      "text/plain": [
       "array(['Buenos Aires', 'Caba', 'Catamarca', 'Chaco', 'Chubut', 'Cordoba',\n",
       "       'Corrientes', 'Entre Rios', 'Formosa', 'Jujuy', 'La Pampa',\n",
       "       'La Rioja', 'Mendoza', 'Misiones', 'Neuquen', 'Rio Negro', 'Salta',\n",
       "       'San Juan', 'San Luis', 'Santa Cruz', 'Santa Fe',\n",
       "       'Santiago Del Estero', 'Tierra Del Fuego', 'Tucuman',\n",
       "       'Capital Federal', 'Córdoba', 'Entre Ríos', 'Neuquén', 'Río Negro',\n",
       "       'Tucumán'], dtype=object)"
      ]
     },
     "execution_count": 47,
     "metadata": {},
     "output_type": "execute_result"
    }
   ],
   "source": [
    "# Se normalizan los valores.\n",
    "dataframes['Velocidad_sin_Rangos']['Provincia'] = dataframes['Velocidad_sin_Rangos']['Provincia'].str.title()\n",
    "dataframes['Velocidad_sin_Rangos']['Provincia'].unique()"
   ]
  },
  {
   "cell_type": "code",
   "execution_count": 48,
   "metadata": {},
   "outputs": [
    {
     "data": {
      "text/plain": [
       "array(['Buenos Aires', 'Caba', 'Catamarca', 'Chaco', 'Chubut', 'Cordoba',\n",
       "       'Corrientes', 'Entre Rios', 'Formosa', 'Jujuy', 'La Pampa',\n",
       "       'La Rioja', 'Mendoza', 'Misiones', 'Neuquen', 'Rio Negro', 'Salta',\n",
       "       'San Juan', 'San Luis', 'Santa Cruz', 'Santa Fe',\n",
       "       'Santiago Del Estero', 'Tierra Del Fuego', 'Tucuman',\n",
       "       'Capital Federal'], dtype=object)"
      ]
     },
     "execution_count": 48,
     "metadata": {},
     "output_type": "execute_result"
    }
   ],
   "source": [
    "# Se procede a reemplazar valores cuya diferencia es un acento\n",
    "dataframes['Velocidad_sin_Rangos']['Provincia'] = dataframes['Velocidad_sin_Rangos']['Provincia'].replace('Córdoba', 'Cordoba')\n",
    "dataframes['Velocidad_sin_Rangos']['Provincia'] = dataframes['Velocidad_sin_Rangos']['Provincia'].replace('Entre Ríos', 'Entre Rios')\n",
    "dataframes['Velocidad_sin_Rangos']['Provincia'] = dataframes['Velocidad_sin_Rangos']['Provincia'].replace('Neuquén', 'Neuquen')\n",
    "dataframes['Velocidad_sin_Rangos']['Provincia'] = dataframes['Velocidad_sin_Rangos']['Provincia'].replace('Río Negro', 'Rio Negro')\n",
    "dataframes['Velocidad_sin_Rangos']['Provincia'] = dataframes['Velocidad_sin_Rangos']['Provincia'].replace('Tucumán', 'Tucuman')\n",
    "dataframes['Velocidad_sin_Rangos']['Provincia'].unique()"
   ]
  },
  {
   "cell_type": "code",
   "execution_count": 49,
   "metadata": {},
   "outputs": [
    {
     "data": {
      "text/html": [
       "<div>\n",
       "<style scoped>\n",
       "    .dataframe tbody tr th:only-of-type {\n",
       "        vertical-align: middle;\n",
       "    }\n",
       "\n",
       "    .dataframe tbody tr th {\n",
       "        vertical-align: top;\n",
       "    }\n",
       "\n",
       "    .dataframe thead th {\n",
       "        text-align: right;\n",
       "    }\n",
       "</style>\n",
       "<table border=\"1\" class=\"dataframe\">\n",
       "  <thead>\n",
       "    <tr style=\"text-align: right;\">\n",
       "      <th></th>\n",
       "      <th>Año</th>\n",
       "      <th>Trimestre</th>\n",
       "      <th>Provincia</th>\n",
       "      <th>Velocidad (Mbps)</th>\n",
       "      <th>Accesos</th>\n",
       "    </tr>\n",
       "  </thead>\n",
       "  <tbody>\n",
       "    <tr>\n",
       "      <th>1155</th>\n",
       "      <td>2024</td>\n",
       "      <td>1</td>\n",
       "      <td>Cordoba</td>\n",
       "      <td>NaN</td>\n",
       "      <td>1</td>\n",
       "    </tr>\n",
       "    <tr>\n",
       "      <th>1644</th>\n",
       "      <td>2024</td>\n",
       "      <td>1</td>\n",
       "      <td>Santa Fe</td>\n",
       "      <td>NaN</td>\n",
       "      <td>9</td>\n",
       "    </tr>\n",
       "    <tr>\n",
       "      <th>3753</th>\n",
       "      <td>2023</td>\n",
       "      <td>2</td>\n",
       "      <td>Cordoba</td>\n",
       "      <td>NaN</td>\n",
       "      <td>1</td>\n",
       "    </tr>\n",
       "    <tr>\n",
       "      <th>4239</th>\n",
       "      <td>2023</td>\n",
       "      <td>2</td>\n",
       "      <td>Santa Fe</td>\n",
       "      <td>NaN</td>\n",
       "      <td>9</td>\n",
       "    </tr>\n",
       "    <tr>\n",
       "      <th>6303</th>\n",
       "      <td>2022</td>\n",
       "      <td>3</td>\n",
       "      <td>Cordoba</td>\n",
       "      <td>NaN</td>\n",
       "      <td>1</td>\n",
       "    </tr>\n",
       "    <tr>\n",
       "      <th>6785</th>\n",
       "      <td>2022</td>\n",
       "      <td>3</td>\n",
       "      <td>Santa Fe</td>\n",
       "      <td>NaN</td>\n",
       "      <td>9</td>\n",
       "    </tr>\n",
       "    <tr>\n",
       "      <th>9255</th>\n",
       "      <td>2021</td>\n",
       "      <td>3</td>\n",
       "      <td>Buenos Aires</td>\n",
       "      <td>NaN</td>\n",
       "      <td>4</td>\n",
       "    </tr>\n",
       "    <tr>\n",
       "      <th>10031</th>\n",
       "      <td>2021</td>\n",
       "      <td>2</td>\n",
       "      <td>Buenos Aires</td>\n",
       "      <td>NaN</td>\n",
       "      <td>4</td>\n",
       "    </tr>\n",
       "    <tr>\n",
       "      <th>10794</th>\n",
       "      <td>2021</td>\n",
       "      <td>1</td>\n",
       "      <td>Buenos Aires</td>\n",
       "      <td>NaN</td>\n",
       "      <td>4</td>\n",
       "    </tr>\n",
       "    <tr>\n",
       "      <th>11538</th>\n",
       "      <td>2020</td>\n",
       "      <td>4</td>\n",
       "      <td>Buenos Aires</td>\n",
       "      <td>NaN</td>\n",
       "      <td>4</td>\n",
       "    </tr>\n",
       "  </tbody>\n",
       "</table>\n",
       "</div>"
      ],
      "text/plain": [
       "        Año  Trimestre     Provincia  Velocidad (Mbps)  Accesos\n",
       "1155   2024          1       Cordoba               NaN        1\n",
       "1644   2024          1      Santa Fe               NaN        9\n",
       "3753   2023          2       Cordoba               NaN        1\n",
       "4239   2023          2      Santa Fe               NaN        9\n",
       "6303   2022          3       Cordoba               NaN        1\n",
       "6785   2022          3      Santa Fe               NaN        9\n",
       "9255   2021          3  Buenos Aires               NaN        4\n",
       "10031  2021          2  Buenos Aires               NaN        4\n",
       "10794  2021          1  Buenos Aires               NaN        4\n",
       "11538  2020          4  Buenos Aires               NaN        4"
      ]
     },
     "execution_count": 49,
     "metadata": {},
     "output_type": "execute_result"
    }
   ],
   "source": [
    "# Se procedio a identificar cuales eran las filas con valores nulos\n",
    "fila, columna = np.where(dataframes['Velocidad_sin_Rangos'].isna())\n",
    "dataframes['Velocidad_sin_Rangos'].iloc[fila]"
   ]
  },
  {
   "cell_type": "code",
   "execution_count": 50,
   "metadata": {},
   "outputs": [
    {
     "name": "stdout",
     "output_type": "stream",
     "text": [
      "El valor promedio en la columna \"Velocidad (Mbps)\" es:  96.17115566387623\n"
     ]
    }
   ],
   "source": [
    "# Se almaceno en una variable el valor del promedio de la columna\n",
    "mean_velocidad = dataframes['Velocidad_sin_Rangos']['Velocidad (Mbps)'].mean()\n",
    "print('El valor promedio en la columna \"Velocidad (Mbps)\" es: ', mean_velocidad)"
   ]
  },
  {
   "cell_type": "code",
   "execution_count": 51,
   "metadata": {},
   "outputs": [
    {
     "data": {
      "text/plain": [
       "Velocidad (Mbps)\n",
       "False    18884\n",
       "Name: count, dtype: int64"
      ]
     },
     "execution_count": 51,
     "metadata": {},
     "output_type": "execute_result"
    }
   ],
   "source": [
    "# Se rellenaron los valores nulos con la variable de valor promedio\n",
    "dataframes['Velocidad_sin_Rangos']['Velocidad (Mbps)'].fillna(mean_velocidad, inplace=True)\n",
    "dataframes['Velocidad_sin_Rangos']['Velocidad (Mbps)'].isna().value_counts()"
   ]
  },
  {
   "cell_type": "code",
   "execution_count": 52,
   "metadata": {},
   "outputs": [],
   "source": [
    "# Procedemos a ordenar las filas en orden ascendente por las columnas [Año y Trimestre]\n",
    "dataframes['Velocidad_sin_Rangos'] = dataframes['Velocidad_sin_Rangos'].sort_values(by=['Año', 'Trimestre']).reset_index(drop=True)"
   ]
  },
  {
   "cell_type": "code",
   "execution_count": 53,
   "metadata": {},
   "outputs": [
    {
     "data": {
      "text/html": [
       "<div>\n",
       "<style scoped>\n",
       "    .dataframe tbody tr th:only-of-type {\n",
       "        vertical-align: middle;\n",
       "    }\n",
       "\n",
       "    .dataframe tbody tr th {\n",
       "        vertical-align: top;\n",
       "    }\n",
       "\n",
       "    .dataframe thead th {\n",
       "        text-align: right;\n",
       "    }\n",
       "</style>\n",
       "<table border=\"1\" class=\"dataframe\">\n",
       "  <thead>\n",
       "    <tr style=\"text-align: right;\">\n",
       "      <th></th>\n",
       "      <th>Año</th>\n",
       "      <th>Trimestre</th>\n",
       "      <th>Provincia</th>\n",
       "      <th>Velocidad (Mbps)</th>\n",
       "      <th>Accesos</th>\n",
       "    </tr>\n",
       "  </thead>\n",
       "  <tbody>\n",
       "    <tr>\n",
       "      <th>0</th>\n",
       "      <td>2017</td>\n",
       "      <td>4</td>\n",
       "      <td>Buenos Aires</td>\n",
       "      <td>0.256</td>\n",
       "      <td>114182</td>\n",
       "    </tr>\n",
       "    <tr>\n",
       "      <th>1</th>\n",
       "      <td>2017</td>\n",
       "      <td>4</td>\n",
       "      <td>Buenos Aires</td>\n",
       "      <td>0.512</td>\n",
       "      <td>3865</td>\n",
       "    </tr>\n",
       "    <tr>\n",
       "      <th>2</th>\n",
       "      <td>2017</td>\n",
       "      <td>4</td>\n",
       "      <td>Buenos Aires</td>\n",
       "      <td>1.000</td>\n",
       "      <td>35185</td>\n",
       "    </tr>\n",
       "    <tr>\n",
       "      <th>3</th>\n",
       "      <td>2017</td>\n",
       "      <td>4</td>\n",
       "      <td>Buenos Aires</td>\n",
       "      <td>1.200</td>\n",
       "      <td>19861</td>\n",
       "    </tr>\n",
       "    <tr>\n",
       "      <th>4</th>\n",
       "      <td>2017</td>\n",
       "      <td>4</td>\n",
       "      <td>Buenos Aires</td>\n",
       "      <td>2.200</td>\n",
       "      <td>29124</td>\n",
       "    </tr>\n",
       "  </tbody>\n",
       "</table>\n",
       "</div>"
      ],
      "text/plain": [
       "    Año  Trimestre     Provincia  Velocidad (Mbps)  Accesos\n",
       "0  2017          4  Buenos Aires             0.256   114182\n",
       "1  2017          4  Buenos Aires             0.512     3865\n",
       "2  2017          4  Buenos Aires             1.000    35185\n",
       "3  2017          4  Buenos Aires             1.200    19861\n",
       "4  2017          4  Buenos Aires             2.200    29124"
      ]
     },
     "execution_count": 53,
     "metadata": {},
     "output_type": "execute_result"
    }
   ],
   "source": [
    "dataframes['Velocidad_sin_Rangos'].head()"
   ]
  },
  {
   "cell_type": "markdown",
   "metadata": {},
   "source": [
    "#### Velocidad % por prov"
   ]
  },
  {
   "cell_type": "code",
   "execution_count": 54,
   "metadata": {},
   "outputs": [
    {
     "data": {
      "text/html": [
       "<div>\n",
       "<style scoped>\n",
       "    .dataframe tbody tr th:only-of-type {\n",
       "        vertical-align: middle;\n",
       "    }\n",
       "\n",
       "    .dataframe tbody tr th {\n",
       "        vertical-align: top;\n",
       "    }\n",
       "\n",
       "    .dataframe thead th {\n",
       "        text-align: right;\n",
       "    }\n",
       "</style>\n",
       "<table border=\"1\" class=\"dataframe\">\n",
       "  <thead>\n",
       "    <tr style=\"text-align: right;\">\n",
       "      <th></th>\n",
       "      <th>Año</th>\n",
       "      <th>Trimestre</th>\n",
       "      <th>Provincia</th>\n",
       "      <th>Mbps (Media de bajada)</th>\n",
       "    </tr>\n",
       "  </thead>\n",
       "  <tbody>\n",
       "    <tr>\n",
       "      <th>0</th>\n",
       "      <td>2024</td>\n",
       "      <td>2</td>\n",
       "      <td>Buenos Aires</td>\n",
       "      <td>157.41</td>\n",
       "    </tr>\n",
       "    <tr>\n",
       "      <th>1</th>\n",
       "      <td>2024</td>\n",
       "      <td>2</td>\n",
       "      <td>Capital Federal</td>\n",
       "      <td>233.01</td>\n",
       "    </tr>\n",
       "    <tr>\n",
       "      <th>2</th>\n",
       "      <td>2024</td>\n",
       "      <td>2</td>\n",
       "      <td>Catamarca</td>\n",
       "      <td>97.38</td>\n",
       "    </tr>\n",
       "    <tr>\n",
       "      <th>3</th>\n",
       "      <td>2024</td>\n",
       "      <td>2</td>\n",
       "      <td>Chaco</td>\n",
       "      <td>107.76</td>\n",
       "    </tr>\n",
       "    <tr>\n",
       "      <th>4</th>\n",
       "      <td>2024</td>\n",
       "      <td>2</td>\n",
       "      <td>Chubut</td>\n",
       "      <td>21.67</td>\n",
       "    </tr>\n",
       "  </tbody>\n",
       "</table>\n",
       "</div>"
      ],
      "text/plain": [
       "    Año  Trimestre        Provincia  Mbps (Media de bajada)\n",
       "0  2024          2     Buenos Aires                  157.41\n",
       "1  2024          2  Capital Federal                  233.01\n",
       "2  2024          2        Catamarca                   97.38\n",
       "3  2024          2            Chaco                  107.76\n",
       "4  2024          2           Chubut                   21.67"
      ]
     },
     "execution_count": 54,
     "metadata": {},
     "output_type": "execute_result"
    }
   ],
   "source": [
    "dataframes['Velocidad % por prov'].head()"
   ]
  },
  {
   "cell_type": "code",
   "execution_count": 55,
   "metadata": {},
   "outputs": [
    {
     "name": "stdout",
     "output_type": "stream",
     "text": [
      "4to dataframe:  Velocidad % por prov\n",
      "--------------------------------------------------\n",
      "Cantidad de nulos por columna: \n",
      " Año                       0\n",
      "Trimestre                 0\n",
      "Provincia                 0\n",
      "Mbps (Media de bajada)    0\n",
      "dtype: int64\n",
      "--------------------------------------------------\n",
      "Cantidad de filas duplicadas:  0\n",
      "--------------------------------------------------\n",
      "Tipos de datos: \n",
      " Año                         int64\n",
      "Trimestre                   int64\n",
      "Provincia                  object\n",
      "Mbps (Media de bajada)    float64\n",
      "dtype: object\n"
     ]
    }
   ],
   "source": [
    "# Se procede a revisar los valores nulos por columna, filas duplicadas y tipo de dato\n",
    "cuarto_dataframe = list(dataframes.keys())[3]\n",
    "print('4to dataframe: ', cuarto_dataframe)\n",
    "print('-' * 50)\n",
    "print('Cantidad de nulos por columna: \\n', dataframes['Velocidad % por prov'].isnull().sum())\n",
    "print('-' * 50)\n",
    "print('Cantidad de filas duplicadas: ', dataframes['Velocidad % por prov'].duplicated().sum())\n",
    "print('-' * 50)\n",
    "print('Tipos de datos: \\n', dataframes['Velocidad % por prov'].dtypes)"
   ]
  },
  {
   "cell_type": "code",
   "execution_count": 56,
   "metadata": {},
   "outputs": [
    {
     "name": "stdout",
     "output_type": "stream",
     "text": [
      "[2024 2023 2022 2021 2020 2019 2018 2017 2016 2015 2014]\n",
      "['Buenos Aires' 'Capital Federal' 'Catamarca' 'Chaco' 'Chubut' 'Córdoba'\n",
      " 'Corrientes' 'Entre Ríos' 'Formosa' 'Jujuy' 'La Pampa' 'La Rioja'\n",
      " 'Mendoza' 'Misiones' 'Neuquén' 'Río Negro' 'Salta' 'San Juan' 'San Luis'\n",
      " 'Santa Cruz' 'Santa Fe' 'Santiago Del Estero' 'Tierra Del Fuego'\n",
      " 'Tucumán']\n",
      "[2 1 4 3]\n"
     ]
    }
   ],
   "source": [
    "print(dataframes['Velocidad % por prov']['Año'].unique())\n",
    "print(dataframes['Velocidad % por prov']['Provincia'].unique())\n",
    "print(dataframes['Velocidad % por prov']['Trimestre'].unique())\n"
   ]
  },
  {
   "cell_type": "code",
   "execution_count": 57,
   "metadata": {},
   "outputs": [
    {
     "data": {
      "text/plain": [
       "array(['Buenos Aires', 'Capital Federal', 'Catamarca', 'Chaco', 'Chubut',\n",
       "       'Cordoba', 'Corrientes', 'Entre Rios', 'Formosa', 'Jujuy',\n",
       "       'La Pampa', 'La Rioja', 'Mendoza', 'Misiones', 'Neuquen',\n",
       "       'Rio Negro', 'Salta', 'San Juan', 'San Luis', 'Santa Cruz',\n",
       "       'Santa Fe', 'Santiago Del Estero', 'Tierra Del Fuego', 'Tucuman'],\n",
       "      dtype=object)"
      ]
     },
     "execution_count": 57,
     "metadata": {},
     "output_type": "execute_result"
    }
   ],
   "source": [
    "# Se procede a reemplazar valores cuya diferencia es un acento\n",
    "dataframes['Velocidad % por prov']['Provincia'] = dataframes['Velocidad % por prov']['Provincia'].replace('Córdoba', 'Cordoba')\n",
    "dataframes['Velocidad % por prov']['Provincia'] = dataframes['Velocidad % por prov']['Provincia'].replace('Entre Ríos', 'Entre Rios')\n",
    "dataframes['Velocidad % por prov']['Provincia'] = dataframes['Velocidad % por prov']['Provincia'].replace('Neuquén', 'Neuquen')\n",
    "dataframes['Velocidad % por prov']['Provincia'] = dataframes['Velocidad % por prov']['Provincia'].replace('Río Negro', 'Rio Negro')\n",
    "dataframes['Velocidad % por prov']['Provincia'] = dataframes['Velocidad % por prov']['Provincia'].replace('Tucumán', 'Tucuman')\n",
    "dataframes['Velocidad % por prov']['Provincia'].unique()"
   ]
  },
  {
   "cell_type": "code",
   "execution_count": 58,
   "metadata": {},
   "outputs": [],
   "source": [
    "# Procedemos a ordenar las filas en orden ascendente por las columnas [Año y Trimestre]\n",
    "dataframes['Velocidad % por prov'] = dataframes['Velocidad % por prov'].sort_values(by=['Año', 'Trimestre']).reset_index(drop=True)"
   ]
  },
  {
   "cell_type": "code",
   "execution_count": 59,
   "metadata": {},
   "outputs": [
    {
     "data": {
      "text/html": [
       "<div>\n",
       "<style scoped>\n",
       "    .dataframe tbody tr th:only-of-type {\n",
       "        vertical-align: middle;\n",
       "    }\n",
       "\n",
       "    .dataframe tbody tr th {\n",
       "        vertical-align: top;\n",
       "    }\n",
       "\n",
       "    .dataframe thead th {\n",
       "        text-align: right;\n",
       "    }\n",
       "</style>\n",
       "<table border=\"1\" class=\"dataframe\">\n",
       "  <thead>\n",
       "    <tr style=\"text-align: right;\">\n",
       "      <th></th>\n",
       "      <th>Año</th>\n",
       "      <th>Trimestre</th>\n",
       "      <th>Provincia</th>\n",
       "      <th>Mbps (Media de bajada)</th>\n",
       "    </tr>\n",
       "  </thead>\n",
       "  <tbody>\n",
       "    <tr>\n",
       "      <th>0</th>\n",
       "      <td>2014</td>\n",
       "      <td>1</td>\n",
       "      <td>Buenos Aires</td>\n",
       "      <td>3.733133</td>\n",
       "    </tr>\n",
       "    <tr>\n",
       "      <th>1</th>\n",
       "      <td>2014</td>\n",
       "      <td>1</td>\n",
       "      <td>Capital Federal</td>\n",
       "      <td>4.024082</td>\n",
       "    </tr>\n",
       "    <tr>\n",
       "      <th>2</th>\n",
       "      <td>2014</td>\n",
       "      <td>1</td>\n",
       "      <td>Catamarca</td>\n",
       "      <td>2.802734</td>\n",
       "    </tr>\n",
       "    <tr>\n",
       "      <th>3</th>\n",
       "      <td>2014</td>\n",
       "      <td>1</td>\n",
       "      <td>Chaco</td>\n",
       "      <td>3.255837</td>\n",
       "    </tr>\n",
       "    <tr>\n",
       "      <th>4</th>\n",
       "      <td>2014</td>\n",
       "      <td>1</td>\n",
       "      <td>Chubut</td>\n",
       "      <td>3.175917</td>\n",
       "    </tr>\n",
       "  </tbody>\n",
       "</table>\n",
       "</div>"
      ],
      "text/plain": [
       "    Año  Trimestre        Provincia  Mbps (Media de bajada)\n",
       "0  2014          1     Buenos Aires                3.733133\n",
       "1  2014          1  Capital Federal                4.024082\n",
       "2  2014          1        Catamarca                2.802734\n",
       "3  2014          1            Chaco                3.255837\n",
       "4  2014          1           Chubut                3.175917"
      ]
     },
     "execution_count": 59,
     "metadata": {},
     "output_type": "execute_result"
    }
   ],
   "source": [
    "dataframes['Velocidad % por prov'].head()"
   ]
  },
  {
   "cell_type": "markdown",
   "metadata": {},
   "source": [
    "#### Totales VMD"
   ]
  },
  {
   "cell_type": "code",
   "execution_count": 60,
   "metadata": {},
   "outputs": [
    {
     "data": {
      "text/html": [
       "<div>\n",
       "<style scoped>\n",
       "    .dataframe tbody tr th:only-of-type {\n",
       "        vertical-align: middle;\n",
       "    }\n",
       "\n",
       "    .dataframe tbody tr th {\n",
       "        vertical-align: top;\n",
       "    }\n",
       "\n",
       "    .dataframe thead th {\n",
       "        text-align: right;\n",
       "    }\n",
       "</style>\n",
       "<table border=\"1\" class=\"dataframe\">\n",
       "  <thead>\n",
       "    <tr style=\"text-align: right;\">\n",
       "      <th></th>\n",
       "      <th>Año</th>\n",
       "      <th>Trimestre</th>\n",
       "      <th>Mbps (Media de bajada)</th>\n",
       "      <th>Trimestre.1</th>\n",
       "    </tr>\n",
       "  </thead>\n",
       "  <tbody>\n",
       "    <tr>\n",
       "      <th>0</th>\n",
       "      <td>2024</td>\n",
       "      <td>2</td>\n",
       "      <td>139.25</td>\n",
       "      <td>Abr-Jun 2024</td>\n",
       "    </tr>\n",
       "    <tr>\n",
       "      <th>1</th>\n",
       "      <td>2024</td>\n",
       "      <td>1</td>\n",
       "      <td>139.15</td>\n",
       "      <td>Ene-Mar 2024</td>\n",
       "    </tr>\n",
       "    <tr>\n",
       "      <th>2</th>\n",
       "      <td>2023</td>\n",
       "      <td>4</td>\n",
       "      <td>139.04</td>\n",
       "      <td>Oct-Dic 2023</td>\n",
       "    </tr>\n",
       "    <tr>\n",
       "      <th>3</th>\n",
       "      <td>2023</td>\n",
       "      <td>3</td>\n",
       "      <td>129.67</td>\n",
       "      <td>Jul-Sept 2023</td>\n",
       "    </tr>\n",
       "    <tr>\n",
       "      <th>4</th>\n",
       "      <td>2023</td>\n",
       "      <td>2</td>\n",
       "      <td>123.95</td>\n",
       "      <td>Abr-Jun 2023</td>\n",
       "    </tr>\n",
       "  </tbody>\n",
       "</table>\n",
       "</div>"
      ],
      "text/plain": [
       "    Año  Trimestre  Mbps (Media de bajada)    Trimestre.1\n",
       "0  2024          2                  139.25   Abr-Jun 2024\n",
       "1  2024          1                  139.15   Ene-Mar 2024\n",
       "2  2023          4                  139.04   Oct-Dic 2023\n",
       "3  2023          3                  129.67  Jul-Sept 2023\n",
       "4  2023          2                  123.95   Abr-Jun 2023"
      ]
     },
     "execution_count": 60,
     "metadata": {},
     "output_type": "execute_result"
    }
   ],
   "source": [
    "dataframes['Totales VMD'].head()"
   ]
  },
  {
   "cell_type": "code",
   "execution_count": 61,
   "metadata": {},
   "outputs": [
    {
     "name": "stdout",
     "output_type": "stream",
     "text": [
      "5to dataframe:  Totales VMD\n",
      "--------------------------------------------------\n",
      "Cantidad de nulos por columna: \n",
      " Año                       0\n",
      "Trimestre                 0\n",
      "Mbps (Media de bajada)    0\n",
      "Trimestre.1               0\n",
      "dtype: int64\n",
      "--------------------------------------------------\n",
      "Cantidad de filas duplicadas:  0\n",
      "--------------------------------------------------\n",
      "Tipos de datos: \n",
      " Año                         int64\n",
      "Trimestre                   int64\n",
      "Mbps (Media de bajada)    float64\n",
      "Trimestre.1                object\n",
      "dtype: object\n"
     ]
    }
   ],
   "source": [
    "# Se procede a revisar los valores nulos por columna, filas duplicadas y tipo de dato\n",
    "quinto_dataframe = list(dataframes.keys())[4]\n",
    "print('5to dataframe: ', quinto_dataframe)\n",
    "print('-' * 50)\n",
    "print('Cantidad de nulos por columna: \\n', dataframes['Totales VMD'].isnull().sum())\n",
    "print('-' * 50)\n",
    "print('Cantidad de filas duplicadas: ', dataframes['Totales VMD'].duplicated().sum())\n",
    "print('-' * 50)\n",
    "print('Tipos de datos: \\n', dataframes['Totales VMD'].dtypes)"
   ]
  },
  {
   "cell_type": "code",
   "execution_count": 62,
   "metadata": {},
   "outputs": [
    {
     "data": {
      "text/html": [
       "<div>\n",
       "<style scoped>\n",
       "    .dataframe tbody tr th:only-of-type {\n",
       "        vertical-align: middle;\n",
       "    }\n",
       "\n",
       "    .dataframe tbody tr th {\n",
       "        vertical-align: top;\n",
       "    }\n",
       "\n",
       "    .dataframe thead th {\n",
       "        text-align: right;\n",
       "    }\n",
       "</style>\n",
       "<table border=\"1\" class=\"dataframe\">\n",
       "  <thead>\n",
       "    <tr style=\"text-align: right;\">\n",
       "      <th></th>\n",
       "      <th>Año</th>\n",
       "      <th>Trimestre</th>\n",
       "      <th>Mbps (Media de bajada)</th>\n",
       "    </tr>\n",
       "  </thead>\n",
       "  <tbody>\n",
       "    <tr>\n",
       "      <th>0</th>\n",
       "      <td>2024</td>\n",
       "      <td>2</td>\n",
       "      <td>139.25</td>\n",
       "    </tr>\n",
       "    <tr>\n",
       "      <th>1</th>\n",
       "      <td>2024</td>\n",
       "      <td>1</td>\n",
       "      <td>139.15</td>\n",
       "    </tr>\n",
       "    <tr>\n",
       "      <th>2</th>\n",
       "      <td>2023</td>\n",
       "      <td>4</td>\n",
       "      <td>139.04</td>\n",
       "    </tr>\n",
       "    <tr>\n",
       "      <th>3</th>\n",
       "      <td>2023</td>\n",
       "      <td>3</td>\n",
       "      <td>129.67</td>\n",
       "    </tr>\n",
       "    <tr>\n",
       "      <th>4</th>\n",
       "      <td>2023</td>\n",
       "      <td>2</td>\n",
       "      <td>123.95</td>\n",
       "    </tr>\n",
       "  </tbody>\n",
       "</table>\n",
       "</div>"
      ],
      "text/plain": [
       "    Año  Trimestre  Mbps (Media de bajada)\n",
       "0  2024          2                  139.25\n",
       "1  2024          1                  139.15\n",
       "2  2023          4                  139.04\n",
       "3  2023          3                  129.67\n",
       "4  2023          2                  123.95"
      ]
     },
     "execution_count": 62,
     "metadata": {},
     "output_type": "execute_result"
    }
   ],
   "source": [
    "# Se elimina la columna 'Trimestre.1' ya que no nos aporta mas informacion de la ya propuesta\n",
    "dataframes['Totales VMD'].drop(columns='Trimestre.1', inplace=True)\n",
    "dataframes['Totales VMD'].head()"
   ]
  },
  {
   "cell_type": "code",
   "execution_count": 63,
   "metadata": {},
   "outputs": [],
   "source": [
    "# Procedemos a ordenar las filas en orden ascendente por las columnas [Año y Trimestre]\n",
    "dataframes['Totales VMD'] = dataframes['Totales VMD'].sort_values(by=['Año', 'Trimestre']).reset_index(drop=True)"
   ]
  },
  {
   "cell_type": "code",
   "execution_count": 64,
   "metadata": {},
   "outputs": [
    {
     "data": {
      "text/html": [
       "<div>\n",
       "<style scoped>\n",
       "    .dataframe tbody tr th:only-of-type {\n",
       "        vertical-align: middle;\n",
       "    }\n",
       "\n",
       "    .dataframe tbody tr th {\n",
       "        vertical-align: top;\n",
       "    }\n",
       "\n",
       "    .dataframe thead th {\n",
       "        text-align: right;\n",
       "    }\n",
       "</style>\n",
       "<table border=\"1\" class=\"dataframe\">\n",
       "  <thead>\n",
       "    <tr style=\"text-align: right;\">\n",
       "      <th></th>\n",
       "      <th>Año</th>\n",
       "      <th>Trimestre</th>\n",
       "      <th>Mbps (Media de bajada)</th>\n",
       "    </tr>\n",
       "  </thead>\n",
       "  <tbody>\n",
       "    <tr>\n",
       "      <th>0</th>\n",
       "      <td>2014</td>\n",
       "      <td>1</td>\n",
       "      <td>3.617127</td>\n",
       "    </tr>\n",
       "    <tr>\n",
       "      <th>1</th>\n",
       "      <td>2014</td>\n",
       "      <td>2</td>\n",
       "      <td>3.758712</td>\n",
       "    </tr>\n",
       "    <tr>\n",
       "      <th>2</th>\n",
       "      <td>2014</td>\n",
       "      <td>3</td>\n",
       "      <td>3.867265</td>\n",
       "    </tr>\n",
       "    <tr>\n",
       "      <th>3</th>\n",
       "      <td>2014</td>\n",
       "      <td>4</td>\n",
       "      <td>4.156888</td>\n",
       "    </tr>\n",
       "    <tr>\n",
       "      <th>4</th>\n",
       "      <td>2015</td>\n",
       "      <td>1</td>\n",
       "      <td>4.350279</td>\n",
       "    </tr>\n",
       "  </tbody>\n",
       "</table>\n",
       "</div>"
      ],
      "text/plain": [
       "    Año  Trimestre  Mbps (Media de bajada)\n",
       "0  2014          1                3.617127\n",
       "1  2014          2                3.758712\n",
       "2  2014          3                3.867265\n",
       "3  2014          4                4.156888\n",
       "4  2015          1                4.350279"
      ]
     },
     "execution_count": 64,
     "metadata": {},
     "output_type": "execute_result"
    }
   ],
   "source": [
    "dataframes['Totales VMD'].head()"
   ]
  },
  {
   "cell_type": "markdown",
   "metadata": {},
   "source": [
    "### ETL para KPI 3 (Accesos_tecnologia_localidad, Totales Accesos Por Tecnología, Accesos por tecnología.)"
   ]
  },
  {
   "cell_type": "markdown",
   "metadata": {},
   "source": [
    "#### Totales Accesos Por Tecnología"
   ]
  },
  {
   "cell_type": "code",
   "execution_count": 65,
   "metadata": {},
   "outputs": [
    {
     "data": {
      "text/html": [
       "<div>\n",
       "<style scoped>\n",
       "    .dataframe tbody tr th:only-of-type {\n",
       "        vertical-align: middle;\n",
       "    }\n",
       "\n",
       "    .dataframe tbody tr th {\n",
       "        vertical-align: top;\n",
       "    }\n",
       "\n",
       "    .dataframe thead th {\n",
       "        text-align: right;\n",
       "    }\n",
       "</style>\n",
       "<table border=\"1\" class=\"dataframe\">\n",
       "  <thead>\n",
       "    <tr style=\"text-align: right;\">\n",
       "      <th></th>\n",
       "      <th>Año</th>\n",
       "      <th>Trimestre</th>\n",
       "      <th>ADSL</th>\n",
       "      <th>Cablemodem</th>\n",
       "      <th>Fibra óptica</th>\n",
       "      <th>Wireless</th>\n",
       "      <th>Otros</th>\n",
       "      <th>Total</th>\n",
       "      <th>Periodo</th>\n",
       "    </tr>\n",
       "  </thead>\n",
       "  <tbody>\n",
       "    <tr>\n",
       "      <th>0</th>\n",
       "      <td>2024</td>\n",
       "      <td>2</td>\n",
       "      <td>733491</td>\n",
       "      <td>5867504</td>\n",
       "      <td>4169958</td>\n",
       "      <td>593197</td>\n",
       "      <td>191957</td>\n",
       "      <td>11556107</td>\n",
       "      <td>Abr-Jun 2024</td>\n",
       "    </tr>\n",
       "    <tr>\n",
       "      <th>1</th>\n",
       "      <td>2024</td>\n",
       "      <td>1</td>\n",
       "      <td>774475</td>\n",
       "      <td>5986957</td>\n",
       "      <td>4015101</td>\n",
       "      <td>598682</td>\n",
       "      <td>257941</td>\n",
       "      <td>11633156</td>\n",
       "      <td>Ene-Mar 2024</td>\n",
       "    </tr>\n",
       "    <tr>\n",
       "      <th>2</th>\n",
       "      <td>2023</td>\n",
       "      <td>4</td>\n",
       "      <td>836390</td>\n",
       "      <td>6022532</td>\n",
       "      <td>3908183</td>\n",
       "      <td>585760</td>\n",
       "      <td>194796</td>\n",
       "      <td>11547661</td>\n",
       "      <td>Oct-Dic 2023</td>\n",
       "    </tr>\n",
       "    <tr>\n",
       "      <th>3</th>\n",
       "      <td>2023</td>\n",
       "      <td>3</td>\n",
       "      <td>897895</td>\n",
       "      <td>6018832</td>\n",
       "      <td>3708718</td>\n",
       "      <td>581436</td>\n",
       "      <td>200027</td>\n",
       "      <td>11406908</td>\n",
       "      <td>Jul-Sept 2023</td>\n",
       "    </tr>\n",
       "    <tr>\n",
       "      <th>4</th>\n",
       "      <td>2023</td>\n",
       "      <td>2</td>\n",
       "      <td>1006509</td>\n",
       "      <td>5997149</td>\n",
       "      <td>3463988</td>\n",
       "      <td>581823</td>\n",
       "      <td>202428</td>\n",
       "      <td>11251897</td>\n",
       "      <td>Abr-Jun 2023</td>\n",
       "    </tr>\n",
       "  </tbody>\n",
       "</table>\n",
       "</div>"
      ],
      "text/plain": [
       "    Año  Trimestre     ADSL  Cablemodem  Fibra óptica  Wireless   Otros  \\\n",
       "0  2024          2   733491     5867504       4169958    593197  191957   \n",
       "1  2024          1   774475     5986957       4015101    598682  257941   \n",
       "2  2023          4   836390     6022532       3908183    585760  194796   \n",
       "3  2023          3   897895     6018832       3708718    581436  200027   \n",
       "4  2023          2  1006509     5997149       3463988    581823  202428   \n",
       "\n",
       "      Total        Periodo  \n",
       "0  11556107   Abr-Jun 2024  \n",
       "1  11633156   Ene-Mar 2024  \n",
       "2  11547661   Oct-Dic 2023  \n",
       "3  11406908  Jul-Sept 2023  \n",
       "4  11251897   Abr-Jun 2023  "
      ]
     },
     "execution_count": 65,
     "metadata": {},
     "output_type": "execute_result"
    }
   ],
   "source": [
    "dataframes['Totales Accesos Por Tecnología'].head()"
   ]
  },
  {
   "cell_type": "code",
   "execution_count": 66,
   "metadata": {},
   "outputs": [
    {
     "name": "stdout",
     "output_type": "stream",
     "text": [
      "5to dataframe:  Totales Accesos Por Tecnología\n",
      "--------------------------------------------------\n",
      "Cantidad de nulos por columna: \n",
      " Año             0\n",
      "Trimestre       0\n",
      "ADSL            0\n",
      "Cablemodem      0\n",
      "Fibra óptica    0\n",
      "Wireless        0\n",
      "Otros           0\n",
      "Total           0\n",
      "Periodo         0\n",
      "dtype: int64\n",
      "--------------------------------------------------\n",
      "Cantidad de filas duplicadas:  0\n",
      "--------------------------------------------------\n",
      "Tipos de datos: \n",
      " Año              int64\n",
      "Trimestre        int64\n",
      "ADSL             int64\n",
      "Cablemodem       int64\n",
      "Fibra óptica     int64\n",
      "Wireless         int64\n",
      "Otros            int64\n",
      "Total            int64\n",
      "Periodo         object\n",
      "dtype: object\n"
     ]
    }
   ],
   "source": [
    "# Se procede a revisar los valores nulos por columna, filas duplicadas y tipo de dato\n",
    "sexto_dataframe = list(dataframes.keys())[5]\n",
    "print('5to dataframe: ', sexto_dataframe)\n",
    "print('-' * 50)\n",
    "print('Cantidad de nulos por columna: \\n', dataframes['Totales Accesos Por Tecnología'].isnull().sum())\n",
    "print('-' * 50)\n",
    "print('Cantidad de filas duplicadas: ', dataframes['Totales Accesos Por Tecnología'].duplicated().sum())\n",
    "print('-' * 50)\n",
    "print('Tipos de datos: \\n', dataframes['Totales Accesos Por Tecnología'].dtypes)"
   ]
  },
  {
   "cell_type": "code",
   "execution_count": 67,
   "metadata": {},
   "outputs": [],
   "source": [
    "# Procedemos a ordenar las filas en orden ascendente por las columnas [Año y Trimestre]\n",
    "dataframes['Totales Accesos Por Tecnología'] = dataframes['Totales Accesos Por Tecnología'].sort_values(by=['Año', 'Trimestre']).reset_index(drop=True)"
   ]
  },
  {
   "cell_type": "code",
   "execution_count": 68,
   "metadata": {},
   "outputs": [
    {
     "data": {
      "text/html": [
       "<div>\n",
       "<style scoped>\n",
       "    .dataframe tbody tr th:only-of-type {\n",
       "        vertical-align: middle;\n",
       "    }\n",
       "\n",
       "    .dataframe tbody tr th {\n",
       "        vertical-align: top;\n",
       "    }\n",
       "\n",
       "    .dataframe thead th {\n",
       "        text-align: right;\n",
       "    }\n",
       "</style>\n",
       "<table border=\"1\" class=\"dataframe\">\n",
       "  <thead>\n",
       "    <tr style=\"text-align: right;\">\n",
       "      <th></th>\n",
       "      <th>Año</th>\n",
       "      <th>Trimestre</th>\n",
       "      <th>ADSL</th>\n",
       "      <th>Cablemodem</th>\n",
       "      <th>Fibra óptica</th>\n",
       "      <th>Wireless</th>\n",
       "      <th>Otros</th>\n",
       "      <th>Total</th>\n",
       "      <th>Periodo</th>\n",
       "    </tr>\n",
       "  </thead>\n",
       "  <tbody>\n",
       "    <tr>\n",
       "      <th>0</th>\n",
       "      <td>2014</td>\n",
       "      <td>1</td>\n",
       "      <td>3697066</td>\n",
       "      <td>2407330</td>\n",
       "      <td>150323</td>\n",
       "      <td>70749</td>\n",
       "      <td>72930</td>\n",
       "      <td>6398398</td>\n",
       "      <td>Ene-Mar 2014</td>\n",
       "    </tr>\n",
       "    <tr>\n",
       "      <th>1</th>\n",
       "      <td>2014</td>\n",
       "      <td>2</td>\n",
       "      <td>3708882</td>\n",
       "      <td>2461670</td>\n",
       "      <td>149363</td>\n",
       "      <td>72405</td>\n",
       "      <td>72148</td>\n",
       "      <td>6464468</td>\n",
       "      <td>Abr-Jun 2014</td>\n",
       "    </tr>\n",
       "    <tr>\n",
       "      <th>2</th>\n",
       "      <td>2014</td>\n",
       "      <td>3</td>\n",
       "      <td>3714764</td>\n",
       "      <td>2569868</td>\n",
       "      <td>155494</td>\n",
       "      <td>85096</td>\n",
       "      <td>70049</td>\n",
       "      <td>6595271</td>\n",
       "      <td>Jul-Sept 2014</td>\n",
       "    </tr>\n",
       "    <tr>\n",
       "      <th>3</th>\n",
       "      <td>2014</td>\n",
       "      <td>4</td>\n",
       "      <td>3764038</td>\n",
       "      <td>2536219</td>\n",
       "      <td>149682</td>\n",
       "      <td>76984</td>\n",
       "      <td>71573</td>\n",
       "      <td>6598496</td>\n",
       "      <td>Oct-Dic 2014</td>\n",
       "    </tr>\n",
       "    <tr>\n",
       "      <th>4</th>\n",
       "      <td>2015</td>\n",
       "      <td>1</td>\n",
       "      <td>3756153</td>\n",
       "      <td>2668248</td>\n",
       "      <td>168188</td>\n",
       "      <td>79098</td>\n",
       "      <td>66045</td>\n",
       "      <td>6737732</td>\n",
       "      <td>Ene-Mar 2015</td>\n",
       "    </tr>\n",
       "  </tbody>\n",
       "</table>\n",
       "</div>"
      ],
      "text/plain": [
       "    Año  Trimestre     ADSL  Cablemodem  Fibra óptica  Wireless  Otros  \\\n",
       "0  2014          1  3697066     2407330        150323     70749  72930   \n",
       "1  2014          2  3708882     2461670        149363     72405  72148   \n",
       "2  2014          3  3714764     2569868        155494     85096  70049   \n",
       "3  2014          4  3764038     2536219        149682     76984  71573   \n",
       "4  2015          1  3756153     2668248        168188     79098  66045   \n",
       "\n",
       "     Total        Periodo  \n",
       "0  6398398   Ene-Mar 2014  \n",
       "1  6464468   Abr-Jun 2014  \n",
       "2  6595271  Jul-Sept 2014  \n",
       "3  6598496   Oct-Dic 2014  \n",
       "4  6737732   Ene-Mar 2015  "
      ]
     },
     "execution_count": 68,
     "metadata": {},
     "output_type": "execute_result"
    }
   ],
   "source": [
    "dataframes['Totales Accesos Por Tecnología'].head()"
   ]
  },
  {
   "cell_type": "markdown",
   "metadata": {},
   "source": [
    "#### Ingresos"
   ]
  },
  {
   "cell_type": "code",
   "execution_count": 69,
   "metadata": {},
   "outputs": [
    {
     "data": {
      "text/html": [
       "<div>\n",
       "<style scoped>\n",
       "    .dataframe tbody tr th:only-of-type {\n",
       "        vertical-align: middle;\n",
       "    }\n",
       "\n",
       "    .dataframe tbody tr th {\n",
       "        vertical-align: top;\n",
       "    }\n",
       "\n",
       "    .dataframe thead th {\n",
       "        text-align: right;\n",
       "    }\n",
       "</style>\n",
       "<table border=\"1\" class=\"dataframe\">\n",
       "  <thead>\n",
       "    <tr style=\"text-align: right;\">\n",
       "      <th></th>\n",
       "      <th>Año</th>\n",
       "      <th>Trimestre</th>\n",
       "      <th>Ingresos (miles de pesos)</th>\n",
       "      <th>Periodo</th>\n",
       "    </tr>\n",
       "  </thead>\n",
       "  <tbody>\n",
       "    <tr>\n",
       "      <th>0</th>\n",
       "      <td>2024</td>\n",
       "      <td>2</td>\n",
       "      <td>4.420322e+08</td>\n",
       "      <td>Abr-Jun 2024</td>\n",
       "    </tr>\n",
       "    <tr>\n",
       "      <th>1</th>\n",
       "      <td>2024</td>\n",
       "      <td>1</td>\n",
       "      <td>3.461990e+08</td>\n",
       "      <td>Ene-Mar 2024</td>\n",
       "    </tr>\n",
       "    <tr>\n",
       "      <th>2</th>\n",
       "      <td>2023</td>\n",
       "      <td>4</td>\n",
       "      <td>1.673760e+08</td>\n",
       "      <td>Oct-Dic 2023</td>\n",
       "    </tr>\n",
       "    <tr>\n",
       "      <th>3</th>\n",
       "      <td>2023</td>\n",
       "      <td>3</td>\n",
       "      <td>1.331066e+08</td>\n",
       "      <td>Jul-Sept 2023</td>\n",
       "    </tr>\n",
       "    <tr>\n",
       "      <th>4</th>\n",
       "      <td>2023</td>\n",
       "      <td>2</td>\n",
       "      <td>1.180603e+08</td>\n",
       "      <td>Jun-Mar 2023</td>\n",
       "    </tr>\n",
       "  </tbody>\n",
       "</table>\n",
       "</div>"
      ],
      "text/plain": [
       "    Año  Trimestre  Ingresos (miles de pesos)        Periodo\n",
       "0  2024          2               4.420322e+08   Abr-Jun 2024\n",
       "1  2024          1               3.461990e+08   Ene-Mar 2024\n",
       "2  2023          4               1.673760e+08   Oct-Dic 2023\n",
       "3  2023          3               1.331066e+08  Jul-Sept 2023\n",
       "4  2023          2               1.180603e+08   Jun-Mar 2023"
      ]
     },
     "execution_count": 69,
     "metadata": {},
     "output_type": "execute_result"
    }
   ],
   "source": [
    "dataframes['Ingresos '].head()"
   ]
  },
  {
   "cell_type": "code",
   "execution_count": 70,
   "metadata": {},
   "outputs": [
    {
     "name": "stdout",
     "output_type": "stream",
     "text": [
      "5to dataframe:  Ingresos \n",
      "--------------------------------------------------\n",
      "Cantidad de nulos por columna: \n",
      " Año                          0\n",
      "Trimestre                    0\n",
      "Ingresos (miles de pesos)    0\n",
      "Periodo                      0\n",
      "dtype: int64\n",
      "--------------------------------------------------\n",
      "Cantidad de filas duplicadas:  0\n",
      "--------------------------------------------------\n",
      "Tipos de datos: \n",
      " Año                            int64\n",
      "Trimestre                      int64\n",
      "Ingresos (miles de pesos)    float64\n",
      "Periodo                       object\n",
      "dtype: object\n"
     ]
    }
   ],
   "source": [
    "# Se procede a revisar los valores nulos por columna, filas duplicadas y tipo de dato\n",
    "ultimo_dataframe = list(dataframes.keys())[14]\n",
    "print('5to dataframe: ', ultimo_dataframe)\n",
    "print('-' * 50)\n",
    "print('Cantidad de nulos por columna: \\n', dataframes['Ingresos '].isnull().sum())\n",
    "print('-' * 50)\n",
    "print('Cantidad de filas duplicadas: ', dataframes['Ingresos '].duplicated().sum())\n",
    "print('-' * 50)\n",
    "print('Tipos de datos: \\n', dataframes['Ingresos '].dtypes)"
   ]
  },
  {
   "cell_type": "code",
   "execution_count": 71,
   "metadata": {},
   "outputs": [],
   "source": [
    "# Procedemos a ordenar las filas en orden ascendente por las columnas [Año y Trimestre]\n",
    "dataframes['Ingresos '] = dataframes['Ingresos '].sort_values(by=['Año', 'Trimestre']).reset_index(drop=True)"
   ]
  },
  {
   "cell_type": "code",
   "execution_count": 73,
   "metadata": {},
   "outputs": [
    {
     "data": {
      "text/html": [
       "<div>\n",
       "<style scoped>\n",
       "    .dataframe tbody tr th:only-of-type {\n",
       "        vertical-align: middle;\n",
       "    }\n",
       "\n",
       "    .dataframe tbody tr th {\n",
       "        vertical-align: top;\n",
       "    }\n",
       "\n",
       "    .dataframe thead th {\n",
       "        text-align: right;\n",
       "    }\n",
       "</style>\n",
       "<table border=\"1\" class=\"dataframe\">\n",
       "  <thead>\n",
       "    <tr style=\"text-align: right;\">\n",
       "      <th></th>\n",
       "      <th>Año</th>\n",
       "      <th>Trimestre</th>\n",
       "      <th>Ingresos (miles de pesos)</th>\n",
       "      <th>Periodo</th>\n",
       "    </tr>\n",
       "  </thead>\n",
       "  <tbody>\n",
       "    <tr>\n",
       "      <th>0</th>\n",
       "      <td>2014</td>\n",
       "      <td>1</td>\n",
       "      <td>2.984054e+06</td>\n",
       "      <td>Ene-Mar 2014</td>\n",
       "    </tr>\n",
       "    <tr>\n",
       "      <th>1</th>\n",
       "      <td>2014</td>\n",
       "      <td>2</td>\n",
       "      <td>3.270816e+06</td>\n",
       "      <td>Abr-Jun 2014</td>\n",
       "    </tr>\n",
       "    <tr>\n",
       "      <th>2</th>\n",
       "      <td>2014</td>\n",
       "      <td>3</td>\n",
       "      <td>3.478638e+06</td>\n",
       "      <td>Jul-Sept 2014</td>\n",
       "    </tr>\n",
       "    <tr>\n",
       "      <th>3</th>\n",
       "      <td>2014</td>\n",
       "      <td>4</td>\n",
       "      <td>3.950441e+06</td>\n",
       "      <td>Oct-Dic 2014</td>\n",
       "    </tr>\n",
       "    <tr>\n",
       "      <th>4</th>\n",
       "      <td>2015</td>\n",
       "      <td>1</td>\n",
       "      <td>4.876385e+06</td>\n",
       "      <td>Ene-Mar 2015</td>\n",
       "    </tr>\n",
       "  </tbody>\n",
       "</table>\n",
       "</div>"
      ],
      "text/plain": [
       "    Año  Trimestre  Ingresos (miles de pesos)        Periodo\n",
       "0  2014          1               2.984054e+06   Ene-Mar 2014\n",
       "1  2014          2               3.270816e+06   Abr-Jun 2014\n",
       "2  2014          3               3.478638e+06  Jul-Sept 2014\n",
       "3  2014          4               3.950441e+06   Oct-Dic 2014\n",
       "4  2015          1               4.876385e+06   Ene-Mar 2015"
      ]
     },
     "execution_count": 73,
     "metadata": {},
     "output_type": "execute_result"
    }
   ],
   "source": [
    "dataframes['Ingresos '].head()"
   ]
  },
  {
   "cell_type": "markdown",
   "metadata": {},
   "source": [
    "### Exportaciones a formato 'csv'"
   ]
  },
  {
   "cell_type": "markdown",
   "metadata": {},
   "source": [
    "#### Archivos del KPI 1"
   ]
  },
  {
   "cell_type": "code",
   "execution_count": 74,
   "metadata": {},
   "outputs": [],
   "source": [
    "dataframes['Penetracion-hogares'].to_csv('./CSVs/kpi_1/penetracion_hogares.csv', index=False)"
   ]
  },
  {
   "cell_type": "code",
   "execution_count": null,
   "metadata": {},
   "outputs": [],
   "source": [
    "dataframes['Accesos_tecnologia_localidad'].to_csv('./CSVs/kpi_1/accesos_tecnologia_localidad.csv', index=False)"
   ]
  },
  {
   "cell_type": "code",
   "execution_count": 76,
   "metadata": {},
   "outputs": [],
   "source": [
    "dataframes['Accesos Por Tecnología'].to_csv('./CSVs/kpi_1/accesos_por_tecnologia.csv', index=False)"
   ]
  },
  {
   "cell_type": "markdown",
   "metadata": {},
   "source": [
    "#### Archivos del KPI 2"
   ]
  },
  {
   "cell_type": "code",
   "execution_count": 77,
   "metadata": {},
   "outputs": [],
   "source": [
    "dataframes['Velocidad_sin_Rangos'].to_csv('./CSVs/kpi_2/velocidad_sin_rangos.csv', index=False)"
   ]
  },
  {
   "cell_type": "code",
   "execution_count": 78,
   "metadata": {},
   "outputs": [],
   "source": [
    "dataframes['Velocidad % por prov'].to_csv('./CSVs/kpi_2/velocidad_%_por_prov.csv', index=False)"
   ]
  },
  {
   "cell_type": "code",
   "execution_count": 79,
   "metadata": {},
   "outputs": [],
   "source": [
    "dataframes['Totales VMD'].to_csv('./CSVs/kpi_2/totales_vmd.csv', index=False)"
   ]
  },
  {
   "cell_type": "markdown",
   "metadata": {},
   "source": [
    "#### Archivos del KPI 3"
   ]
  },
  {
   "cell_type": "code",
   "execution_count": 80,
   "metadata": {},
   "outputs": [],
   "source": [
    "dataframes['Accesos_tecnologia_localidad'].to_csv('./CSVs/kpi_3/accesos_tecnologia_localidad.csv', index=False)"
   ]
  },
  {
   "cell_type": "code",
   "execution_count": 81,
   "metadata": {},
   "outputs": [],
   "source": [
    "dataframes['Accesos Por Tecnología'].to_csv('./CSVs/kpi_3/accesos_por_tecnologia.csv', index=False)"
   ]
  },
  {
   "cell_type": "code",
   "execution_count": 82,
   "metadata": {},
   "outputs": [],
   "source": [
    "dataframes['Totales Accesos Por Tecnología'].to_csv('./CSVs/kpi_3/totales_accesos_por_tecnologia.csv', index=False)"
   ]
  },
  {
   "cell_type": "code",
   "execution_count": 83,
   "metadata": {},
   "outputs": [],
   "source": [
    "dataframes['Ingresos '].to_csv('./CSVs/kpi_3/ingresos.csv', index=False)"
   ]
  }
 ],
 "metadata": {
  "kernelspec": {
   "display_name": "project02",
   "language": "python",
   "name": "python3"
  },
  "language_info": {
   "codemirror_mode": {
    "name": "ipython",
    "version": 3
   },
   "file_extension": ".py",
   "mimetype": "text/x-python",
   "name": "python",
   "nbconvert_exporter": "python",
   "pygments_lexer": "ipython3",
   "version": "3.9.0"
  }
 },
 "nbformat": 4,
 "nbformat_minor": 2
}
